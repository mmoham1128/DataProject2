{
 "cells": [
  {
   "cell_type": "markdown",
   "id": "a4718e28",
   "metadata": {},
   "source": [
    "# Unit 2 Project - Data Cleaning "
   ]
  },
  {
   "cell_type": "markdown",
   "id": "7e497310",
   "metadata": {},
   "source": [
    "## Part 1: Prepare Environment and Jupyter Notebook"
   ]
  },
  {
   "cell_type": "markdown",
   "id": "af19cd7e",
   "metadata": {},
   "source": [
    "### Step 1: Create Virtual Environment\n",
    "\n",
    "This step should have been completed prior to opening the Jupyter Notebook. Refer to project instructions."
   ]
  },
  {
   "cell_type": "markdown",
   "id": "056e8cce",
   "metadata": {},
   "source": [
    "### Step 2: Open Jupyter Notebook File\n",
    "\n",
    "Congratulations! If you're here it means you have completed Step 2. "
   ]
  },
  {
   "cell_type": "markdown",
   "id": "4af0ea78",
   "metadata": {},
   "source": [
    "### Step 3: Load .csv Files into DataFrames"
   ]
  },
  {
   "cell_type": "code",
   "execution_count": 3,
   "id": "f639cd26",
   "metadata": {},
   "outputs": [],
   "source": [
    "####### TO DO ########\n",
    "import pandas as pd\n",
    "# load house_data.csv into a dataframe using pd.read_csv()\n",
    "raw_house_df = pd.read_csv('house_data.csv')\n",
    "# load house_sales.csv into a dataframe using pd.read_csv()\n",
    "raw_sales_df = pd.read_csv('house_sales.csv')\n",
    "######################"
   ]
  },
  {
   "cell_type": "code",
   "execution_count": 4,
   "id": "e242b38c",
   "metadata": {
    "scrolled": false
   },
   "outputs": [
    {
     "data": {
      "text/html": [
       "<div>\n",
       "<style scoped>\n",
       "    .dataframe tbody tr th:only-of-type {\n",
       "        vertical-align: middle;\n",
       "    }\n",
       "\n",
       "    .dataframe tbody tr th {\n",
       "        vertical-align: top;\n",
       "    }\n",
       "\n",
       "    .dataframe thead th {\n",
       "        text-align: right;\n",
       "    }\n",
       "</style>\n",
       "<table border=\"1\" class=\"dataframe\">\n",
       "  <thead>\n",
       "    <tr style=\"text-align: right;\">\n",
       "      <th></th>\n",
       "      <th>Unnamed: 0</th>\n",
       "      <th>ID</th>\n",
       "      <th>Bedrooms</th>\n",
       "      <th>Bathrooms</th>\n",
       "      <th>SQFT living</th>\n",
       "      <th>SQFT lot</th>\n",
       "      <th>Floors</th>\n",
       "      <th>Waterfront?</th>\n",
       "      <th>View</th>\n",
       "      <th>House Condition</th>\n",
       "      <th>Grade</th>\n",
       "      <th>SQFT above</th>\n",
       "      <th>SQFT basement</th>\n",
       "      <th>Year Built</th>\n",
       "      <th>Year Renovated</th>\n",
       "      <th>Zipcode</th>\n",
       "      <th>Lat</th>\n",
       "      <th>Long</th>\n",
       "      <th>SQFT living 15</th>\n",
       "      <th>SQFT lot 15</th>\n",
       "    </tr>\n",
       "  </thead>\n",
       "  <tbody>\n",
       "    <tr>\n",
       "      <th>0</th>\n",
       "      <td>0</td>\n",
       "      <td>7129300520</td>\n",
       "      <td>3</td>\n",
       "      <td>1.00</td>\n",
       "      <td>1180</td>\n",
       "      <td>5650.0</td>\n",
       "      <td>1.0</td>\n",
       "      <td>No</td>\n",
       "      <td>Very Poor</td>\n",
       "      <td>OK Condition</td>\n",
       "      <td>7.0</td>\n",
       "      <td>1180.0</td>\n",
       "      <td>0</td>\n",
       "      <td>1955.0</td>\n",
       "      <td>NaN</td>\n",
       "      <td>98178.0</td>\n",
       "      <td>47.5112</td>\n",
       "      <td>-122.257</td>\n",
       "      <td>1340</td>\n",
       "      <td>5650</td>\n",
       "    </tr>\n",
       "    <tr>\n",
       "      <th>1</th>\n",
       "      <td>1</td>\n",
       "      <td>6414100192</td>\n",
       "      <td>3</td>\n",
       "      <td>2.25</td>\n",
       "      <td>2570</td>\n",
       "      <td>7242.0</td>\n",
       "      <td>2.0</td>\n",
       "      <td>No</td>\n",
       "      <td>Very Poor</td>\n",
       "      <td>OK Condition</td>\n",
       "      <td>7.0</td>\n",
       "      <td>2170.0</td>\n",
       "      <td>400</td>\n",
       "      <td>1951.0</td>\n",
       "      <td>1991.0</td>\n",
       "      <td>98125.0</td>\n",
       "      <td>47.7210</td>\n",
       "      <td>-122.319</td>\n",
       "      <td>1690</td>\n",
       "      <td>7639</td>\n",
       "    </tr>\n",
       "    <tr>\n",
       "      <th>2</th>\n",
       "      <td>2</td>\n",
       "      <td>5631500400</td>\n",
       "      <td>2</td>\n",
       "      <td>1.00</td>\n",
       "      <td>770</td>\n",
       "      <td>10000.0</td>\n",
       "      <td>1.0</td>\n",
       "      <td>No</td>\n",
       "      <td>Very Poor</td>\n",
       "      <td>OK Condition</td>\n",
       "      <td>6.0</td>\n",
       "      <td>770.0</td>\n",
       "      <td>0</td>\n",
       "      <td>1933.0</td>\n",
       "      <td>NaN</td>\n",
       "      <td>98028.0</td>\n",
       "      <td>47.7379</td>\n",
       "      <td>-122.233</td>\n",
       "      <td>2720</td>\n",
       "      <td>8062</td>\n",
       "    </tr>\n",
       "    <tr>\n",
       "      <th>3</th>\n",
       "      <td>3</td>\n",
       "      <td>2487200875</td>\n",
       "      <td>4</td>\n",
       "      <td>3.00</td>\n",
       "      <td>1960</td>\n",
       "      <td>5000.0</td>\n",
       "      <td>1.0</td>\n",
       "      <td>No</td>\n",
       "      <td>Very Poor</td>\n",
       "      <td>Great Condition</td>\n",
       "      <td>7.0</td>\n",
       "      <td>1050.0</td>\n",
       "      <td>910</td>\n",
       "      <td>1965.0</td>\n",
       "      <td>NaN</td>\n",
       "      <td>98136.0</td>\n",
       "      <td>47.5208</td>\n",
       "      <td>-122.393</td>\n",
       "      <td>1360</td>\n",
       "      <td>5000</td>\n",
       "    </tr>\n",
       "    <tr>\n",
       "      <th>4</th>\n",
       "      <td>4</td>\n",
       "      <td>1954400510</td>\n",
       "      <td>3</td>\n",
       "      <td>2.00</td>\n",
       "      <td>1680</td>\n",
       "      <td>8080.0</td>\n",
       "      <td>1.0</td>\n",
       "      <td>No</td>\n",
       "      <td>Very Poor</td>\n",
       "      <td>OK Condition</td>\n",
       "      <td>8.0</td>\n",
       "      <td>1680.0</td>\n",
       "      <td>0</td>\n",
       "      <td>1987.0</td>\n",
       "      <td>NaN</td>\n",
       "      <td>98074.0</td>\n",
       "      <td>47.6168</td>\n",
       "      <td>-122.045</td>\n",
       "      <td>1800</td>\n",
       "      <td>7503</td>\n",
       "    </tr>\n",
       "  </tbody>\n",
       "</table>\n",
       "</div>"
      ],
      "text/plain": [
       "   Unnamed: 0          ID  Bedrooms  Bathrooms  SQFT living  SQFT lot  Floors  \\\n",
       "0           0  7129300520         3       1.00         1180    5650.0     1.0   \n",
       "1           1  6414100192         3       2.25         2570    7242.0     2.0   \n",
       "2           2  5631500400         2       1.00          770   10000.0     1.0   \n",
       "3           3  2487200875         4       3.00         1960    5000.0     1.0   \n",
       "4           4  1954400510         3       2.00         1680    8080.0     1.0   \n",
       "\n",
       "  Waterfront?       View  House Condition  Grade  SQFT above  SQFT basement  \\\n",
       "0          No  Very Poor     OK Condition    7.0      1180.0              0   \n",
       "1          No  Very Poor     OK Condition    7.0      2170.0            400   \n",
       "2          No  Very Poor     OK Condition    6.0       770.0              0   \n",
       "3          No  Very Poor  Great Condition    7.0      1050.0            910   \n",
       "4          No  Very Poor     OK Condition    8.0      1680.0              0   \n",
       "\n",
       "   Year Built  Year Renovated  Zipcode      Lat     Long  SQFT living 15  \\\n",
       "0      1955.0             NaN  98178.0  47.5112 -122.257            1340   \n",
       "1      1951.0          1991.0  98125.0  47.7210 -122.319            1690   \n",
       "2      1933.0             NaN  98028.0  47.7379 -122.233            2720   \n",
       "3      1965.0             NaN  98136.0  47.5208 -122.393            1360   \n",
       "4      1987.0             NaN  98074.0  47.6168 -122.045            1800   \n",
       "\n",
       "   SQFT lot 15  \n",
       "0         5650  \n",
       "1         7639  \n",
       "2         8062  \n",
       "3         5000  \n",
       "4         7503  "
      ]
     },
     "execution_count": 4,
     "metadata": {},
     "output_type": "execute_result"
    }
   ],
   "source": [
    "###### TO DO ######\n",
    "raw_house_df.head()\n",
    "# use .head() on your new dataframe to show the dataframe was loaded succussfully\n"
   ]
  },
  {
   "cell_type": "code",
   "execution_count": 5,
   "id": "3ca8a987",
   "metadata": {},
   "outputs": [
    {
     "data": {
      "text/html": [
       "<div>\n",
       "<style scoped>\n",
       "    .dataframe tbody tr th:only-of-type {\n",
       "        vertical-align: middle;\n",
       "    }\n",
       "\n",
       "    .dataframe tbody tr th {\n",
       "        vertical-align: top;\n",
       "    }\n",
       "\n",
       "    .dataframe thead th {\n",
       "        text-align: right;\n",
       "    }\n",
       "</style>\n",
       "<table border=\"1\" class=\"dataframe\">\n",
       "  <thead>\n",
       "    <tr style=\"text-align: right;\">\n",
       "      <th></th>\n",
       "      <th>Unnamed: 0</th>\n",
       "      <th>Id</th>\n",
       "      <th>DATE</th>\n",
       "      <th>Price</th>\n",
       "    </tr>\n",
       "  </thead>\n",
       "  <tbody>\n",
       "    <tr>\n",
       "      <th>0</th>\n",
       "      <td>0</td>\n",
       "      <td>7129300520</td>\n",
       "      <td>20141013T000000</td>\n",
       "      <td>$221,900.00</td>\n",
       "    </tr>\n",
       "    <tr>\n",
       "      <th>1</th>\n",
       "      <td>1</td>\n",
       "      <td>6414100192</td>\n",
       "      <td>20141209T000000</td>\n",
       "      <td>$538,000.00</td>\n",
       "    </tr>\n",
       "    <tr>\n",
       "      <th>2</th>\n",
       "      <td>2</td>\n",
       "      <td>5631500400</td>\n",
       "      <td>20150225T000000</td>\n",
       "      <td>$180,000.00</td>\n",
       "    </tr>\n",
       "    <tr>\n",
       "      <th>3</th>\n",
       "      <td>3</td>\n",
       "      <td>2487200875</td>\n",
       "      <td>20141209T000000</td>\n",
       "      <td>$604,000.00</td>\n",
       "    </tr>\n",
       "    <tr>\n",
       "      <th>4</th>\n",
       "      <td>4</td>\n",
       "      <td>1954400510</td>\n",
       "      <td>20150218T000000</td>\n",
       "      <td>$510,000.00</td>\n",
       "    </tr>\n",
       "  </tbody>\n",
       "</table>\n",
       "</div>"
      ],
      "text/plain": [
       "   Unnamed: 0          Id             DATE        Price\n",
       "0           0  7129300520  20141013T000000  $221,900.00\n",
       "1           1  6414100192  20141209T000000  $538,000.00\n",
       "2           2  5631500400  20150225T000000  $180,000.00\n",
       "3           3  2487200875  20141209T000000  $604,000.00\n",
       "4           4  1954400510  20150218T000000  $510,000.00"
      ]
     },
     "execution_count": 5,
     "metadata": {},
     "output_type": "execute_result"
    }
   ],
   "source": [
    "###### TO DO ######\n",
    "raw_sales_df.head()\n",
    "# use .head() on your second new dataframe to show the dataframe was loaded succussfully"
   ]
  },
  {
   "cell_type": "markdown",
   "id": "07f969b2",
   "metadata": {},
   "source": [
    "### Step 4: Create Data Dictionaries for Each Dataset"
   ]
  },
  {
   "cell_type": "code",
   "execution_count": 6,
   "id": "2da245c7",
   "metadata": {},
   "outputs": [],
   "source": [
    "####### TO DO ###########\n",
    "\n",
    "# Work in the cells below to fill in missing information in the data dictionary. "
   ]
  },
  {
   "cell_type": "markdown",
   "id": "65828aca",
   "metadata": {},
   "source": [
    "#### Data Dictionary - House Data\n",
    "\n",
    "**id**:\n",
    "> Description: String of numbers used as a unique ID for each house sold\n",
    ">\n",
    "> Data type: string\n",
    "\n",
    "**bedrooms**:\n",
    "> Description: Number of bedrooms\n",
    ">\n",
    "> Data type: float\n",
    "\n",
    "**bathrooms**:\n",
    "> Description: Number of bathrooms\n",
    "\n",
    ">\n",
    "> Data type: float\n",
    "\n",
    "**sqft_living**:\n",
    "> Description: Square footage of interior living space\n",
    "\n",
    ">\n",
    "> Data type: integer\n",
    "\n",
    "**sqft_lot**:\n",
    "> Description: Sqaure footage of land\n",
    ">\n",
    "> Data type: integer\n",
    "\n",
    "**floors**:\n",
    "> Description: Number of floors\n",
    ">\n",
    "> Data type: integer\n",
    "\n",
    "**waterfront**:\n",
    "> Description: Wheter or not the home is overlooking water\n",
    "\n",
    ">\n",
    "> Data type: string\n",
    "\n",
    "**view**:\n",
    "> Description: A rating of how good the view is from the property\n",
    ">\n",
    "> Data type: float\n",
    "\n",
    "**condition**:\n",
    "> Description: A rating of the home condition at the time of sale\n",
    ">\n",
    "> Data type: float\n",
    "\n",
    "**grade**:\n",
    "> Description: An index of 1-13 where 1-3 falls short of building and construction standards, 7 is an average quality of construction, and 11-13 has a high quality of construction and design.\n",
    "\n",
    ">\n",
    "> Data type: integer\n",
    " \n",
    "**sqft_above**:\n",
    "> Description: The square footage of living space above ground level\n",
    "\n",
    ">\n",
    "> Data type: float\n",
    "\n",
    "**sqft_basement**:\n",
    "> Description: The square footage of living space in the basement\n",
    ">\n",
    "> Data type: float\n",
    "\n",
    "**yr_built**:\n",
    "> Description: The year the house was initially built\n",
    "\n",
    ">\n",
    "> Data type: integer\n",
    "\n",
    "**yr_renovated**:\n",
    "> Description: Year the house was renovated\n",
    "\n",
    ">\n",
    "> Data type: integer\n",
    "\n",
    "**zipcode**:\n",
    "> Description: What zipcode the house is in\n",
    "\n",
    ">\n",
    "> Data type: integer\n",
    "\n",
    "**lat**:\n",
    "> Description: Latitude\n",
    ">\n",
    "> Data type: floast\n",
    "\n",
    "**long**:\n",
    "> Description: Longitude\n",
    ">\n",
    "> Data type: float\n",
    "\n",
    "**sqft_living15**:\n",
    "> Description: The square footage of interior living space of the 15 nearest neighbors\n",
    "\n",
    ">\n",
    "> Data type: integer\n",
    "\n",
    "**sqft_lot15**:\n",
    "> Description: The square footage of lot space of the 15 nearest neighbors\n",
    ">\n",
    "> Data type: integer"
   ]
  },
  {
   "cell_type": "markdown",
   "id": "318fbad1",
   "metadata": {},
   "source": [
    "#### Data Dictionary - House Sales Data\n",
    "\n",
    "**id**:\n",
    "> Description: unique string of id\n",
    ">\n",
    "> Data type: string\n",
    "\n",
    "**date**:\n",
    "> Description: date the house was sold\n",
    ">\n",
    "> Data type: date\n",
    "\n",
    "**price**:\n",
    "> Description: How much the house is worth\n",
    ">\n",
    "> Data type: float"
   ]
  },
  {
   "cell_type": "markdown",
   "id": "eead3ca6",
   "metadata": {},
   "source": [
    "### Step 5: Create Copies of DataFrames to Start Cleaning Process"
   ]
  },
  {
   "cell_type": "code",
   "execution_count": 7,
   "id": "d1157942",
   "metadata": {},
   "outputs": [],
   "source": [
    "###### TO DO ######\n",
    "\n",
    "# create a copy of house_data\n",
    "house_df = raw_house_df.copy()\n",
    "# create a copy of sales_data\n",
    "sales_df = raw_sales_df.copy()"
   ]
  },
  {
   "cell_type": "code",
   "execution_count": 8,
   "id": "ef764ac9",
   "metadata": {},
   "outputs": [
    {
     "data": {
      "text/html": [
       "<div>\n",
       "<style scoped>\n",
       "    .dataframe tbody tr th:only-of-type {\n",
       "        vertical-align: middle;\n",
       "    }\n",
       "\n",
       "    .dataframe tbody tr th {\n",
       "        vertical-align: top;\n",
       "    }\n",
       "\n",
       "    .dataframe thead th {\n",
       "        text-align: right;\n",
       "    }\n",
       "</style>\n",
       "<table border=\"1\" class=\"dataframe\">\n",
       "  <thead>\n",
       "    <tr style=\"text-align: right;\">\n",
       "      <th></th>\n",
       "      <th>Unnamed: 0</th>\n",
       "      <th>ID</th>\n",
       "      <th>Bedrooms</th>\n",
       "      <th>Bathrooms</th>\n",
       "      <th>SQFT living</th>\n",
       "      <th>SQFT lot</th>\n",
       "      <th>Floors</th>\n",
       "      <th>Waterfront?</th>\n",
       "      <th>View</th>\n",
       "      <th>House Condition</th>\n",
       "      <th>Grade</th>\n",
       "      <th>SQFT above</th>\n",
       "      <th>SQFT basement</th>\n",
       "      <th>Year Built</th>\n",
       "      <th>Year Renovated</th>\n",
       "      <th>Zipcode</th>\n",
       "      <th>Lat</th>\n",
       "      <th>Long</th>\n",
       "      <th>SQFT living 15</th>\n",
       "      <th>SQFT lot 15</th>\n",
       "    </tr>\n",
       "  </thead>\n",
       "  <tbody>\n",
       "    <tr>\n",
       "      <th>0</th>\n",
       "      <td>0</td>\n",
       "      <td>7129300520</td>\n",
       "      <td>3</td>\n",
       "      <td>1.00</td>\n",
       "      <td>1180</td>\n",
       "      <td>5650.0</td>\n",
       "      <td>1.0</td>\n",
       "      <td>No</td>\n",
       "      <td>Very Poor</td>\n",
       "      <td>OK Condition</td>\n",
       "      <td>7.0</td>\n",
       "      <td>1180.0</td>\n",
       "      <td>0</td>\n",
       "      <td>1955.0</td>\n",
       "      <td>NaN</td>\n",
       "      <td>98178.0</td>\n",
       "      <td>47.5112</td>\n",
       "      <td>-122.257</td>\n",
       "      <td>1340</td>\n",
       "      <td>5650</td>\n",
       "    </tr>\n",
       "    <tr>\n",
       "      <th>1</th>\n",
       "      <td>1</td>\n",
       "      <td>6414100192</td>\n",
       "      <td>3</td>\n",
       "      <td>2.25</td>\n",
       "      <td>2570</td>\n",
       "      <td>7242.0</td>\n",
       "      <td>2.0</td>\n",
       "      <td>No</td>\n",
       "      <td>Very Poor</td>\n",
       "      <td>OK Condition</td>\n",
       "      <td>7.0</td>\n",
       "      <td>2170.0</td>\n",
       "      <td>400</td>\n",
       "      <td>1951.0</td>\n",
       "      <td>1991.0</td>\n",
       "      <td>98125.0</td>\n",
       "      <td>47.7210</td>\n",
       "      <td>-122.319</td>\n",
       "      <td>1690</td>\n",
       "      <td>7639</td>\n",
       "    </tr>\n",
       "    <tr>\n",
       "      <th>2</th>\n",
       "      <td>2</td>\n",
       "      <td>5631500400</td>\n",
       "      <td>2</td>\n",
       "      <td>1.00</td>\n",
       "      <td>770</td>\n",
       "      <td>10000.0</td>\n",
       "      <td>1.0</td>\n",
       "      <td>No</td>\n",
       "      <td>Very Poor</td>\n",
       "      <td>OK Condition</td>\n",
       "      <td>6.0</td>\n",
       "      <td>770.0</td>\n",
       "      <td>0</td>\n",
       "      <td>1933.0</td>\n",
       "      <td>NaN</td>\n",
       "      <td>98028.0</td>\n",
       "      <td>47.7379</td>\n",
       "      <td>-122.233</td>\n",
       "      <td>2720</td>\n",
       "      <td>8062</td>\n",
       "    </tr>\n",
       "    <tr>\n",
       "      <th>3</th>\n",
       "      <td>3</td>\n",
       "      <td>2487200875</td>\n",
       "      <td>4</td>\n",
       "      <td>3.00</td>\n",
       "      <td>1960</td>\n",
       "      <td>5000.0</td>\n",
       "      <td>1.0</td>\n",
       "      <td>No</td>\n",
       "      <td>Very Poor</td>\n",
       "      <td>Great Condition</td>\n",
       "      <td>7.0</td>\n",
       "      <td>1050.0</td>\n",
       "      <td>910</td>\n",
       "      <td>1965.0</td>\n",
       "      <td>NaN</td>\n",
       "      <td>98136.0</td>\n",
       "      <td>47.5208</td>\n",
       "      <td>-122.393</td>\n",
       "      <td>1360</td>\n",
       "      <td>5000</td>\n",
       "    </tr>\n",
       "    <tr>\n",
       "      <th>4</th>\n",
       "      <td>4</td>\n",
       "      <td>1954400510</td>\n",
       "      <td>3</td>\n",
       "      <td>2.00</td>\n",
       "      <td>1680</td>\n",
       "      <td>8080.0</td>\n",
       "      <td>1.0</td>\n",
       "      <td>No</td>\n",
       "      <td>Very Poor</td>\n",
       "      <td>OK Condition</td>\n",
       "      <td>8.0</td>\n",
       "      <td>1680.0</td>\n",
       "      <td>0</td>\n",
       "      <td>1987.0</td>\n",
       "      <td>NaN</td>\n",
       "      <td>98074.0</td>\n",
       "      <td>47.6168</td>\n",
       "      <td>-122.045</td>\n",
       "      <td>1800</td>\n",
       "      <td>7503</td>\n",
       "    </tr>\n",
       "  </tbody>\n",
       "</table>\n",
       "</div>"
      ],
      "text/plain": [
       "   Unnamed: 0          ID  Bedrooms  Bathrooms  SQFT living  SQFT lot  Floors  \\\n",
       "0           0  7129300520         3       1.00         1180    5650.0     1.0   \n",
       "1           1  6414100192         3       2.25         2570    7242.0     2.0   \n",
       "2           2  5631500400         2       1.00          770   10000.0     1.0   \n",
       "3           3  2487200875         4       3.00         1960    5000.0     1.0   \n",
       "4           4  1954400510         3       2.00         1680    8080.0     1.0   \n",
       "\n",
       "  Waterfront?       View  House Condition  Grade  SQFT above  SQFT basement  \\\n",
       "0          No  Very Poor     OK Condition    7.0      1180.0              0   \n",
       "1          No  Very Poor     OK Condition    7.0      2170.0            400   \n",
       "2          No  Very Poor     OK Condition    6.0       770.0              0   \n",
       "3          No  Very Poor  Great Condition    7.0      1050.0            910   \n",
       "4          No  Very Poor     OK Condition    8.0      1680.0              0   \n",
       "\n",
       "   Year Built  Year Renovated  Zipcode      Lat     Long  SQFT living 15  \\\n",
       "0      1955.0             NaN  98178.0  47.5112 -122.257            1340   \n",
       "1      1951.0          1991.0  98125.0  47.7210 -122.319            1690   \n",
       "2      1933.0             NaN  98028.0  47.7379 -122.233            2720   \n",
       "3      1965.0             NaN  98136.0  47.5208 -122.393            1360   \n",
       "4      1987.0             NaN  98074.0  47.6168 -122.045            1800   \n",
       "\n",
       "   SQFT lot 15  \n",
       "0         5650  \n",
       "1         7639  \n",
       "2         8062  \n",
       "3         5000  \n",
       "4         7503  "
      ]
     },
     "execution_count": 8,
     "metadata": {},
     "output_type": "execute_result"
    }
   ],
   "source": [
    "###### TO DO ######\n",
    "\n",
    "# use .head() on your new dataframe to show the dataframe was copied succussfully\n",
    "house_df.head()"
   ]
  },
  {
   "cell_type": "code",
   "execution_count": 9,
   "id": "4b9fa892",
   "metadata": {},
   "outputs": [
    {
     "data": {
      "text/html": [
       "<div>\n",
       "<style scoped>\n",
       "    .dataframe tbody tr th:only-of-type {\n",
       "        vertical-align: middle;\n",
       "    }\n",
       "\n",
       "    .dataframe tbody tr th {\n",
       "        vertical-align: top;\n",
       "    }\n",
       "\n",
       "    .dataframe thead th {\n",
       "        text-align: right;\n",
       "    }\n",
       "</style>\n",
       "<table border=\"1\" class=\"dataframe\">\n",
       "  <thead>\n",
       "    <tr style=\"text-align: right;\">\n",
       "      <th></th>\n",
       "      <th>Unnamed: 0</th>\n",
       "      <th>Id</th>\n",
       "      <th>DATE</th>\n",
       "      <th>Price</th>\n",
       "    </tr>\n",
       "  </thead>\n",
       "  <tbody>\n",
       "    <tr>\n",
       "      <th>0</th>\n",
       "      <td>0</td>\n",
       "      <td>7129300520</td>\n",
       "      <td>20141013T000000</td>\n",
       "      <td>$221,900.00</td>\n",
       "    </tr>\n",
       "    <tr>\n",
       "      <th>1</th>\n",
       "      <td>1</td>\n",
       "      <td>6414100192</td>\n",
       "      <td>20141209T000000</td>\n",
       "      <td>$538,000.00</td>\n",
       "    </tr>\n",
       "    <tr>\n",
       "      <th>2</th>\n",
       "      <td>2</td>\n",
       "      <td>5631500400</td>\n",
       "      <td>20150225T000000</td>\n",
       "      <td>$180,000.00</td>\n",
       "    </tr>\n",
       "    <tr>\n",
       "      <th>3</th>\n",
       "      <td>3</td>\n",
       "      <td>2487200875</td>\n",
       "      <td>20141209T000000</td>\n",
       "      <td>$604,000.00</td>\n",
       "    </tr>\n",
       "    <tr>\n",
       "      <th>4</th>\n",
       "      <td>4</td>\n",
       "      <td>1954400510</td>\n",
       "      <td>20150218T000000</td>\n",
       "      <td>$510,000.00</td>\n",
       "    </tr>\n",
       "  </tbody>\n",
       "</table>\n",
       "</div>"
      ],
      "text/plain": [
       "   Unnamed: 0          Id             DATE        Price\n",
       "0           0  7129300520  20141013T000000  $221,900.00\n",
       "1           1  6414100192  20141209T000000  $538,000.00\n",
       "2           2  5631500400  20150225T000000  $180,000.00\n",
       "3           3  2487200875  20141209T000000  $604,000.00\n",
       "4           4  1954400510  20150218T000000  $510,000.00"
      ]
     },
     "execution_count": 9,
     "metadata": {},
     "output_type": "execute_result"
    }
   ],
   "source": [
    "###### TO DO ######\n",
    "\n",
    "# use .head() on your second new dataframe to show the dataframe was copied succussfully\n",
    "sales_df.head()"
   ]
  },
  {
   "cell_type": "markdown",
   "id": "02736475",
   "metadata": {},
   "source": [
    "## Part 2: Assess Data and Create Data Cleaning Plan"
   ]
  },
  {
   "cell_type": "markdown",
   "id": "1666070a",
   "metadata": {},
   "source": [
    "### Step 1: Check Column Names, Casing, Spelling, Etc."
   ]
  },
  {
   "cell_type": "code",
   "execution_count": 10,
   "id": "7a3cdce7",
   "metadata": {},
   "outputs": [
    {
     "name": "stdout",
     "output_type": "stream",
     "text": [
      "<class 'pandas.core.frame.DataFrame'>\n",
      "RangeIndex: 21613 entries, 0 to 21612\n",
      "Data columns (total 20 columns):\n",
      " #   Column           Non-Null Count  Dtype  \n",
      "---  ------           --------------  -----  \n",
      " 0   Unnamed: 0       21613 non-null  int64  \n",
      " 1   ID               21613 non-null  int64  \n",
      " 2   Bedrooms         21613 non-null  int64  \n",
      " 3   Bathrooms        21611 non-null  float64\n",
      " 4   SQFT living      21613 non-null  int64  \n",
      " 5   SQFT lot         21611 non-null  float64\n",
      " 6   Floors           21613 non-null  float64\n",
      " 7   Waterfront?      21605 non-null  object \n",
      " 8   View             21611 non-null  object \n",
      " 9   House Condition  21607 non-null  object \n",
      " 10  Grade            21611 non-null  float64\n",
      " 11  SQFT above       21612 non-null  float64\n",
      " 12  SQFT basement    21613 non-null  int64  \n",
      " 13  Year Built       21612 non-null  float64\n",
      " 14  Year Renovated   21276 non-null  float64\n",
      " 15  Zipcode          21610 non-null  float64\n",
      " 16  Lat              21612 non-null  float64\n",
      " 17  Long             21612 non-null  float64\n",
      " 18  SQFT living 15   21613 non-null  int64  \n",
      " 19  SQFT lot 15      21613 non-null  int64  \n",
      "dtypes: float64(10), int64(7), object(3)\n",
      "memory usage: 3.3+ MB\n"
     ]
    }
   ],
   "source": [
    "######################### TO DO ###################################\n",
    "house_df.info()\n",
    "####### FOLLOW PROJECT DIRECTIONS TO COMPLETE THIS STEP ###########"
   ]
  },
  {
   "cell_type": "code",
   "execution_count": 11,
   "id": "4e33d05a",
   "metadata": {},
   "outputs": [
    {
     "data": {
      "text/html": [
       "<div>\n",
       "<style scoped>\n",
       "    .dataframe tbody tr th:only-of-type {\n",
       "        vertical-align: middle;\n",
       "    }\n",
       "\n",
       "    .dataframe tbody tr th {\n",
       "        vertical-align: top;\n",
       "    }\n",
       "\n",
       "    .dataframe thead th {\n",
       "        text-align: right;\n",
       "    }\n",
       "</style>\n",
       "<table border=\"1\" class=\"dataframe\">\n",
       "  <thead>\n",
       "    <tr style=\"text-align: right;\">\n",
       "      <th></th>\n",
       "      <th>Unnamed: 0</th>\n",
       "      <th>ID</th>\n",
       "      <th>Bedrooms</th>\n",
       "      <th>Bathrooms</th>\n",
       "      <th>SQFT living</th>\n",
       "      <th>SQFT lot</th>\n",
       "      <th>Floors</th>\n",
       "      <th>Waterfront?</th>\n",
       "      <th>View</th>\n",
       "      <th>House Condition</th>\n",
       "      <th>Grade</th>\n",
       "      <th>SQFT above</th>\n",
       "      <th>SQFT basement</th>\n",
       "      <th>Year Built</th>\n",
       "      <th>Year Renovated</th>\n",
       "      <th>Zipcode</th>\n",
       "      <th>Lat</th>\n",
       "      <th>Long</th>\n",
       "      <th>SQFT living 15</th>\n",
       "      <th>SQFT lot 15</th>\n",
       "    </tr>\n",
       "  </thead>\n",
       "  <tbody>\n",
       "    <tr>\n",
       "      <th>0</th>\n",
       "      <td>0</td>\n",
       "      <td>7129300520</td>\n",
       "      <td>3</td>\n",
       "      <td>1.00</td>\n",
       "      <td>1180</td>\n",
       "      <td>5650.0</td>\n",
       "      <td>1.0</td>\n",
       "      <td>No</td>\n",
       "      <td>Very Poor</td>\n",
       "      <td>OK Condition</td>\n",
       "      <td>7.0</td>\n",
       "      <td>1180.0</td>\n",
       "      <td>0</td>\n",
       "      <td>1955.0</td>\n",
       "      <td>NaN</td>\n",
       "      <td>98178.0</td>\n",
       "      <td>47.5112</td>\n",
       "      <td>-122.257</td>\n",
       "      <td>1340</td>\n",
       "      <td>5650</td>\n",
       "    </tr>\n",
       "    <tr>\n",
       "      <th>1</th>\n",
       "      <td>1</td>\n",
       "      <td>6414100192</td>\n",
       "      <td>3</td>\n",
       "      <td>2.25</td>\n",
       "      <td>2570</td>\n",
       "      <td>7242.0</td>\n",
       "      <td>2.0</td>\n",
       "      <td>No</td>\n",
       "      <td>Very Poor</td>\n",
       "      <td>OK Condition</td>\n",
       "      <td>7.0</td>\n",
       "      <td>2170.0</td>\n",
       "      <td>400</td>\n",
       "      <td>1951.0</td>\n",
       "      <td>1991.0</td>\n",
       "      <td>98125.0</td>\n",
       "      <td>47.7210</td>\n",
       "      <td>-122.319</td>\n",
       "      <td>1690</td>\n",
       "      <td>7639</td>\n",
       "    </tr>\n",
       "    <tr>\n",
       "      <th>2</th>\n",
       "      <td>2</td>\n",
       "      <td>5631500400</td>\n",
       "      <td>2</td>\n",
       "      <td>1.00</td>\n",
       "      <td>770</td>\n",
       "      <td>10000.0</td>\n",
       "      <td>1.0</td>\n",
       "      <td>No</td>\n",
       "      <td>Very Poor</td>\n",
       "      <td>OK Condition</td>\n",
       "      <td>6.0</td>\n",
       "      <td>770.0</td>\n",
       "      <td>0</td>\n",
       "      <td>1933.0</td>\n",
       "      <td>NaN</td>\n",
       "      <td>98028.0</td>\n",
       "      <td>47.7379</td>\n",
       "      <td>-122.233</td>\n",
       "      <td>2720</td>\n",
       "      <td>8062</td>\n",
       "    </tr>\n",
       "    <tr>\n",
       "      <th>3</th>\n",
       "      <td>3</td>\n",
       "      <td>2487200875</td>\n",
       "      <td>4</td>\n",
       "      <td>3.00</td>\n",
       "      <td>1960</td>\n",
       "      <td>5000.0</td>\n",
       "      <td>1.0</td>\n",
       "      <td>No</td>\n",
       "      <td>Very Poor</td>\n",
       "      <td>Great Condition</td>\n",
       "      <td>7.0</td>\n",
       "      <td>1050.0</td>\n",
       "      <td>910</td>\n",
       "      <td>1965.0</td>\n",
       "      <td>NaN</td>\n",
       "      <td>98136.0</td>\n",
       "      <td>47.5208</td>\n",
       "      <td>-122.393</td>\n",
       "      <td>1360</td>\n",
       "      <td>5000</td>\n",
       "    </tr>\n",
       "    <tr>\n",
       "      <th>4</th>\n",
       "      <td>4</td>\n",
       "      <td>1954400510</td>\n",
       "      <td>3</td>\n",
       "      <td>2.00</td>\n",
       "      <td>1680</td>\n",
       "      <td>8080.0</td>\n",
       "      <td>1.0</td>\n",
       "      <td>No</td>\n",
       "      <td>Very Poor</td>\n",
       "      <td>OK Condition</td>\n",
       "      <td>8.0</td>\n",
       "      <td>1680.0</td>\n",
       "      <td>0</td>\n",
       "      <td>1987.0</td>\n",
       "      <td>NaN</td>\n",
       "      <td>98074.0</td>\n",
       "      <td>47.6168</td>\n",
       "      <td>-122.045</td>\n",
       "      <td>1800</td>\n",
       "      <td>7503</td>\n",
       "    </tr>\n",
       "  </tbody>\n",
       "</table>\n",
       "</div>"
      ],
      "text/plain": [
       "   Unnamed: 0          ID  Bedrooms  Bathrooms  SQFT living  SQFT lot  Floors  \\\n",
       "0           0  7129300520         3       1.00         1180    5650.0     1.0   \n",
       "1           1  6414100192         3       2.25         2570    7242.0     2.0   \n",
       "2           2  5631500400         2       1.00          770   10000.0     1.0   \n",
       "3           3  2487200875         4       3.00         1960    5000.0     1.0   \n",
       "4           4  1954400510         3       2.00         1680    8080.0     1.0   \n",
       "\n",
       "  Waterfront?       View  House Condition  Grade  SQFT above  SQFT basement  \\\n",
       "0          No  Very Poor     OK Condition    7.0      1180.0              0   \n",
       "1          No  Very Poor     OK Condition    7.0      2170.0            400   \n",
       "2          No  Very Poor     OK Condition    6.0       770.0              0   \n",
       "3          No  Very Poor  Great Condition    7.0      1050.0            910   \n",
       "4          No  Very Poor     OK Condition    8.0      1680.0              0   \n",
       "\n",
       "   Year Built  Year Renovated  Zipcode      Lat     Long  SQFT living 15  \\\n",
       "0      1955.0             NaN  98178.0  47.5112 -122.257            1340   \n",
       "1      1951.0          1991.0  98125.0  47.7210 -122.319            1690   \n",
       "2      1933.0             NaN  98028.0  47.7379 -122.233            2720   \n",
       "3      1965.0             NaN  98136.0  47.5208 -122.393            1360   \n",
       "4      1987.0             NaN  98074.0  47.6168 -122.045            1800   \n",
       "\n",
       "   SQFT lot 15  \n",
       "0         5650  \n",
       "1         7639  \n",
       "2         8062  \n",
       "3         5000  \n",
       "4         7503  "
      ]
     },
     "execution_count": 11,
     "metadata": {},
     "output_type": "execute_result"
    }
   ],
   "source": [
    "house_df.head()"
   ]
  },
  {
   "cell_type": "code",
   "execution_count": 12,
   "id": "c4f92653",
   "metadata": {},
   "outputs": [
    {
     "name": "stdout",
     "output_type": "stream",
     "text": [
      "<class 'pandas.core.frame.DataFrame'>\n",
      "RangeIndex: 21613 entries, 0 to 21612\n",
      "Data columns (total 4 columns):\n",
      " #   Column      Non-Null Count  Dtype \n",
      "---  ------      --------------  ----- \n",
      " 0   Unnamed: 0  21613 non-null  int64 \n",
      " 1   Id          21613 non-null  int64 \n",
      " 2   DATE        21613 non-null  object\n",
      " 3   Price       21609 non-null  object\n",
      "dtypes: int64(2), object(2)\n",
      "memory usage: 675.5+ KB\n"
     ]
    }
   ],
   "source": [
    "sales_df.info()"
   ]
  },
  {
   "cell_type": "code",
   "execution_count": 13,
   "id": "003c37c4",
   "metadata": {},
   "outputs": [
    {
     "data": {
      "text/html": [
       "<div>\n",
       "<style scoped>\n",
       "    .dataframe tbody tr th:only-of-type {\n",
       "        vertical-align: middle;\n",
       "    }\n",
       "\n",
       "    .dataframe tbody tr th {\n",
       "        vertical-align: top;\n",
       "    }\n",
       "\n",
       "    .dataframe thead th {\n",
       "        text-align: right;\n",
       "    }\n",
       "</style>\n",
       "<table border=\"1\" class=\"dataframe\">\n",
       "  <thead>\n",
       "    <tr style=\"text-align: right;\">\n",
       "      <th></th>\n",
       "      <th>Unnamed: 0</th>\n",
       "      <th>Id</th>\n",
       "      <th>DATE</th>\n",
       "      <th>Price</th>\n",
       "    </tr>\n",
       "  </thead>\n",
       "  <tbody>\n",
       "    <tr>\n",
       "      <th>0</th>\n",
       "      <td>0</td>\n",
       "      <td>7129300520</td>\n",
       "      <td>20141013T000000</td>\n",
       "      <td>$221,900.00</td>\n",
       "    </tr>\n",
       "    <tr>\n",
       "      <th>1</th>\n",
       "      <td>1</td>\n",
       "      <td>6414100192</td>\n",
       "      <td>20141209T000000</td>\n",
       "      <td>$538,000.00</td>\n",
       "    </tr>\n",
       "    <tr>\n",
       "      <th>2</th>\n",
       "      <td>2</td>\n",
       "      <td>5631500400</td>\n",
       "      <td>20150225T000000</td>\n",
       "      <td>$180,000.00</td>\n",
       "    </tr>\n",
       "    <tr>\n",
       "      <th>3</th>\n",
       "      <td>3</td>\n",
       "      <td>2487200875</td>\n",
       "      <td>20141209T000000</td>\n",
       "      <td>$604,000.00</td>\n",
       "    </tr>\n",
       "    <tr>\n",
       "      <th>4</th>\n",
       "      <td>4</td>\n",
       "      <td>1954400510</td>\n",
       "      <td>20150218T000000</td>\n",
       "      <td>$510,000.00</td>\n",
       "    </tr>\n",
       "  </tbody>\n",
       "</table>\n",
       "</div>"
      ],
      "text/plain": [
       "   Unnamed: 0          Id             DATE        Price\n",
       "0           0  7129300520  20141013T000000  $221,900.00\n",
       "1           1  6414100192  20141209T000000  $538,000.00\n",
       "2           2  5631500400  20150225T000000  $180,000.00\n",
       "3           3  2487200875  20141209T000000  $604,000.00\n",
       "4           4  1954400510  20150218T000000  $510,000.00"
      ]
     },
     "execution_count": 13,
     "metadata": {},
     "output_type": "execute_result"
    }
   ],
   "source": [
    "sales_df.head()"
   ]
  },
  {
   "cell_type": "code",
   "execution_count": 14,
   "id": "e293ef89",
   "metadata": {},
   "outputs": [
    {
     "name": "stdout",
     "output_type": "stream",
     "text": [
      "<class 'pandas.core.frame.DataFrame'>\n",
      "RangeIndex: 21613 entries, 0 to 21612\n",
      "Data columns (total 20 columns):\n",
      " #   Column           Non-Null Count  Dtype  \n",
      "---  ------           --------------  -----  \n",
      " 0   Unnamed: 0       21613 non-null  int64  \n",
      " 1   ID               21613 non-null  int64  \n",
      " 2   Bedrooms         21613 non-null  int64  \n",
      " 3   Bathrooms        21611 non-null  float64\n",
      " 4   SQFT living      21613 non-null  int64  \n",
      " 5   SQFT lot         21611 non-null  float64\n",
      " 6   Floors           21613 non-null  float64\n",
      " 7   Waterfront?      21605 non-null  object \n",
      " 8   View             21611 non-null  object \n",
      " 9   House Condition  21607 non-null  object \n",
      " 10  Grade            21611 non-null  float64\n",
      " 11  SQFT above       21612 non-null  float64\n",
      " 12  SQFT basement    21613 non-null  int64  \n",
      " 13  Year Built       21612 non-null  float64\n",
      " 14  Year Renovated   21276 non-null  float64\n",
      " 15  Zipcode          21610 non-null  float64\n",
      " 16  Lat              21612 non-null  float64\n",
      " 17  Long             21612 non-null  float64\n",
      " 18  SQFT living 15   21613 non-null  int64  \n",
      " 19  SQFT lot 15      21613 non-null  int64  \n",
      "dtypes: float64(10), int64(7), object(3)\n",
      "memory usage: 3.3+ MB\n"
     ]
    }
   ],
   "source": [
    "######################### TO DO ###################################\n",
    "house_df.info()\n",
    "####### FOLLOW PROJECT DIRECTIONS TO COMPLETE THIS STEP ###########"
   ]
  },
  {
   "cell_type": "code",
   "execution_count": 15,
   "id": "771c0df5",
   "metadata": {},
   "outputs": [
    {
     "name": "stdout",
     "output_type": "stream",
     "text": [
      "<class 'pandas.core.frame.DataFrame'>\n",
      "RangeIndex: 21613 entries, 0 to 21612\n",
      "Data columns (total 4 columns):\n",
      " #   Column      Non-Null Count  Dtype \n",
      "---  ------      --------------  ----- \n",
      " 0   Unnamed: 0  21613 non-null  int64 \n",
      " 1   Id          21613 non-null  int64 \n",
      " 2   DATE        21613 non-null  object\n",
      " 3   Price       21609 non-null  object\n",
      "dtypes: int64(2), object(2)\n",
      "memory usage: 675.5+ KB\n"
     ]
    }
   ],
   "source": [
    "sales_df.info()"
   ]
  },
  {
   "cell_type": "markdown",
   "id": "2a550fef",
   "metadata": {},
   "source": [
    "### Step 2: Validate Data Types"
   ]
  },
  {
   "cell_type": "markdown",
   "id": "2eb00941",
   "metadata": {},
   "source": [
    "Q: Do any of the data types in the dataframe need to be changed?"
   ]
  },
  {
   "cell_type": "markdown",
   "id": "b401a0c1",
   "metadata": {},
   "source": [
    "A: #### TO DO #####\n",
    "Yes \n",
    "\n",
    "For House_df \n",
    "- change id to string\n",
    "- change zipcode to string\n",
    "\n",
    "For Sales_df \n",
    "- change id to string\n",
    "- change date to datetime\n",
    "- change price to float"
   ]
  },
  {
   "cell_type": "markdown",
   "id": "dd4fd9cb",
   "metadata": {},
   "source": [
    "### Step 3: Detect Missing Values"
   ]
  },
  {
   "cell_type": "code",
   "execution_count": 16,
   "id": "1e69dc73",
   "metadata": {},
   "outputs": [],
   "source": [
    "######################### TO DO ###################################\n",
    "\n",
    "####### FOLLOW PROJECT DIRECTIONS TO COMPLETE THIS STEP ###########"
   ]
  },
  {
   "cell_type": "code",
   "execution_count": 17,
   "id": "4666bd68",
   "metadata": {},
   "outputs": [
    {
     "data": {
      "text/plain": [
       "Unnamed: 0           0\n",
       "ID                   0\n",
       "Bedrooms             0\n",
       "Bathrooms            2\n",
       "SQFT living          0\n",
       "SQFT lot             2\n",
       "Floors               0\n",
       "Waterfront?          8\n",
       "View                 2\n",
       "House Condition      6\n",
       "Grade                2\n",
       "SQFT above           1\n",
       "SQFT basement        0\n",
       "Year Built           1\n",
       "Year Renovated     337\n",
       "Zipcode              3\n",
       "Lat                  1\n",
       "Long                 1\n",
       "SQFT living 15       0\n",
       "SQFT lot 15          0\n",
       "dtype: int64"
      ]
     },
     "execution_count": 17,
     "metadata": {},
     "output_type": "execute_result"
    }
   ],
   "source": [
    "house_df.isnull().sum()"
   ]
  },
  {
   "cell_type": "markdown",
   "id": "95c2804a",
   "metadata": {},
   "source": [
    "Q: Which variables/columns have missing values?"
   ]
  },
  {
   "cell_type": "markdown",
   "id": "2c83cda7",
   "metadata": {},
   "source": [
    "A: ##### TO DO #####\n",
    "\n",
    "For House_df\n",
    "\n",
    "- Bathrooms\n",
    "- SQFT Lot \n",
    "- Waterfront\n",
    "- View\n",
    "- House condition\n",
    "- Grade\n",
    "- SQFT Above\n",
    "- Year Built\n",
    "- Year Renovated\n",
    "- Zipcode\n",
    "- Lat\n",
    "- Lon\n",
    "\n",
    "For Sales_df\n",
    "\n",
    "- Price"
   ]
  },
  {
   "cell_type": "markdown",
   "id": "ab831c3a",
   "metadata": {},
   "source": [
    "### Step 4: Detect Outliers"
   ]
  },
  {
   "cell_type": "code",
   "execution_count": 18,
   "id": "ab13309c",
   "metadata": {},
   "outputs": [],
   "source": [
    "######################### TO DO ###################################\n",
    "\n",
    "####### FOLLOW PROJECT DIRECTIONS TO COMPLETE THIS STEP ###########"
   ]
  },
  {
   "cell_type": "code",
   "execution_count": 19,
   "id": "cd445217",
   "metadata": {},
   "outputs": [],
   "source": [
    "import seaborn as sns\n",
    "from scipy.stats import zscore"
   ]
  },
  {
   "cell_type": "code",
   "execution_count": 20,
   "id": "f759e778",
   "metadata": {},
   "outputs": [
    {
     "data": {
      "text/plain": [
       "<AxesSubplot:>"
      ]
     },
     "execution_count": 20,
     "metadata": {},
     "output_type": "execute_result"
    },
    {
     "data": {
      "image/png": "[encoded data removed]",
      "text/plain": [
       "<Figure size 432x288 with 1 Axes>"
      ]
     },
     "metadata": {
      "needs_background": "light"
     },
     "output_type": "display_data"
    }
   ],
   "source": [
    "sns.boxplot(data=house_df['Bedrooms'])"
   ]
  },
  {
   "cell_type": "code",
   "execution_count": 21,
   "id": "e4c96df8",
   "metadata": {},
   "outputs": [
    {
     "data": {
      "text/plain": [
       "count    21613.000000\n",
       "mean         3.372091\n",
       "std          0.947533\n",
       "min          0.000000\n",
       "25%          3.000000\n",
       "50%          3.000000\n",
       "75%          4.000000\n",
       "max         33.000000\n",
       "Name: Bedrooms, dtype: float64"
      ]
     },
     "execution_count": 21,
     "metadata": {},
     "output_type": "execute_result"
    }
   ],
   "source": [
    "house_df['Bedrooms'].describe()"
   ]
  },
  {
   "cell_type": "code",
   "execution_count": 22,
   "id": "4e4e53ed",
   "metadata": {},
   "outputs": [
    {
     "data": {
      "text/plain": [
       "<AxesSubplot:>"
      ]
     },
     "execution_count": 22,
     "metadata": {},
     "output_type": "execute_result"
    },
    {
     "data": {
      "image/png": "[encoded data removed]",
      "text/plain": [
       "<Figure size 432x288 with 1 Axes>"
      ]
     },
     "metadata": {
      "needs_background": "light"
     },
     "output_type": "display_data"
    }
   ],
   "source": [
    "sns.boxplot(data=house_df['Bathrooms'])"
   ]
  },
  {
   "cell_type": "code",
   "execution_count": 23,
   "id": "5c532c96",
   "metadata": {},
   "outputs": [
    {
     "data": {
      "text/plain": [
       "<AxesSubplot:>"
      ]
     },
     "execution_count": 23,
     "metadata": {},
     "output_type": "execute_result"
    },
    {
     "data": {
      "image/png": "[encoded data removed]",
      "text/plain": [
       "<Figure size 432x288 with 1 Axes>"
      ]
     },
     "metadata": {
      "needs_background": "light"
     },
     "output_type": "display_data"
    }
   ],
   "source": [
    "sns.boxplot(data=house_df['SQFT living'])"
   ]
  },
  {
   "cell_type": "code",
   "execution_count": 24,
   "id": "86b42588",
   "metadata": {},
   "outputs": [
    {
     "data": {
      "image/png": "[encoded data removed]",
      "text/plain": [
       "<Figure size 432x288 with 1 Axes>"
      ]
     },
     "metadata": {
      "needs_background": "light"
     },
     "output_type": "display_data"
    }
   ],
   "source": [
    "sns.boxplot(data=house_df['SQFT lot']);"
   ]
  },
  {
   "cell_type": "code",
   "execution_count": 25,
   "id": "98243306",
   "metadata": {},
   "outputs": [
    {
     "data": {
      "text/plain": [
       "count    2.161100e+04\n",
       "mean     1.510388e+04\n",
       "std      4.141929e+04\n",
       "min      5.200000e+02\n",
       "25%      5.040000e+03\n",
       "50%      7.618000e+03\n",
       "75%      1.068750e+04\n",
       "max      1.651359e+06\n",
       "Name: SQFT lot, dtype: float64"
      ]
     },
     "execution_count": 25,
     "metadata": {},
     "output_type": "execute_result"
    }
   ],
   "source": [
    "house_df['SQFT lot'].describe()"
   ]
  },
  {
   "cell_type": "code",
   "execution_count": 26,
   "id": "cad22e8b",
   "metadata": {},
   "outputs": [
    {
     "data": {
      "text/plain": [
       "<AxesSubplot:>"
      ]
     },
     "execution_count": 26,
     "metadata": {},
     "output_type": "execute_result"
    },
    {
     "data": {
      "image/png": "[encoded data removed]",
      "text/plain": [
       "<Figure size 432x288 with 1 Axes>"
      ]
     },
     "metadata": {
      "needs_background": "light"
     },
     "output_type": "display_data"
    }
   ],
   "source": [
    "sns.boxplot(data=house_df['Floors'])"
   ]
  },
  {
   "cell_type": "code",
   "execution_count": 27,
   "id": "7c34d2cc",
   "metadata": {},
   "outputs": [
    {
     "data": {
      "text/plain": [
       "<AxesSubplot:>"
      ]
     },
     "execution_count": 27,
     "metadata": {},
     "output_type": "execute_result"
    },
    {
     "data": {
      "image/png": "[encoded data removed]",
      "text/plain": [
       "<Figure size 432x288 with 1 Axes>"
      ]
     },
     "metadata": {
      "needs_background": "light"
     },
     "output_type": "display_data"
    }
   ],
   "source": [
    "sns.boxplot(data=house_df['Grade'])"
   ]
  },
  {
   "cell_type": "code",
   "execution_count": 28,
   "id": "7150cd3d",
   "metadata": {},
   "outputs": [
    {
     "data": {
      "text/plain": [
       "count    21611.000000\n",
       "mean         7.656795\n",
       "std          1.175475\n",
       "min          1.000000\n",
       "25%          7.000000\n",
       "50%          7.000000\n",
       "75%          8.000000\n",
       "max         13.000000\n",
       "Name: Grade, dtype: float64"
      ]
     },
     "execution_count": 28,
     "metadata": {},
     "output_type": "execute_result"
    }
   ],
   "source": [
    "house_df['Grade'].describe()"
   ]
  },
  {
   "cell_type": "code",
   "execution_count": 29,
   "id": "2b2ed40c",
   "metadata": {},
   "outputs": [
    {
     "data": {
      "text/plain": [
       "<AxesSubplot:>"
      ]
     },
     "execution_count": 29,
     "metadata": {},
     "output_type": "execute_result"
    },
    {
     "data": {
      "image/png": "[encoded data removed]",
      "text/plain": [
       "<Figure size 432x288 with 1 Axes>"
      ]
     },
     "metadata": {
      "needs_background": "light"
     },
     "output_type": "display_data"
    }
   ],
   "source": [
    "sns.boxplot(data=house_df['SQFT above'])"
   ]
  },
  {
   "cell_type": "code",
   "execution_count": 30,
   "id": "9cbecfd5",
   "metadata": {},
   "outputs": [
    {
     "data": {
      "text/plain": [
       "count    21612.000000\n",
       "mean      1788.861281\n",
       "std        831.369379\n",
       "min        290.000000\n",
       "25%       1190.000000\n",
       "50%       1560.000000\n",
       "75%       2210.000000\n",
       "max      12542.000000\n",
       "Name: SQFT above, dtype: float64"
      ]
     },
     "execution_count": 30,
     "metadata": {},
     "output_type": "execute_result"
    }
   ],
   "source": [
    "house_df['SQFT above'].describe()"
   ]
  },
  {
   "cell_type": "code",
   "execution_count": 31,
   "id": "44385d78",
   "metadata": {},
   "outputs": [
    {
     "data": {
      "text/plain": [
       "<AxesSubplot:>"
      ]
     },
     "execution_count": 31,
     "metadata": {},
     "output_type": "execute_result"
    },
    {
     "data": {
      "image/png": "[encoded data removed]",
      "text/plain": [
       "<Figure size 432x288 with 1 Axes>"
      ]
     },
     "metadata": {
      "needs_background": "light"
     },
     "output_type": "display_data"
    }
   ],
   "source": [
    "sns.boxplot(data=house_df['SQFT basement'])"
   ]
  },
  {
   "cell_type": "code",
   "execution_count": 32,
   "id": "2930f451",
   "metadata": {},
   "outputs": [
    {
     "data": {
      "text/plain": [
       "count    21613.000000\n",
       "mean       291.509045\n",
       "std        442.575043\n",
       "min          0.000000\n",
       "25%          0.000000\n",
       "50%          0.000000\n",
       "75%        560.000000\n",
       "max       4820.000000\n",
       "Name: SQFT basement, dtype: float64"
      ]
     },
     "execution_count": 32,
     "metadata": {},
     "output_type": "execute_result"
    }
   ],
   "source": [
    "house_df['SQFT basement'].describe()"
   ]
  },
  {
   "cell_type": "code",
   "execution_count": 33,
   "id": "6e2782bf",
   "metadata": {},
   "outputs": [
    {
     "data": {
      "text/plain": [
       "<AxesSubplot:>"
      ]
     },
     "execution_count": 33,
     "metadata": {},
     "output_type": "execute_result"
    },
    {
     "data": {
      "image/png": "[encoded data removed]",
      "text/plain": [
       "<Figure size 432x288 with 1 Axes>"
      ]
     },
     "metadata": {
      "needs_background": "light"
     },
     "output_type": "display_data"
    }
   ],
   "source": [
    "sns.boxplot(data=house_df['Year Built'])"
   ]
  },
  {
   "cell_type": "code",
   "execution_count": 34,
   "id": "3f8f9c80",
   "metadata": {},
   "outputs": [
    {
     "data": {
      "text/plain": [
       "<AxesSubplot:>"
      ]
     },
     "execution_count": 34,
     "metadata": {},
     "output_type": "execute_result"
    },
    {
     "data": {
      "image/png": "[encoded data removed]",
      "text/plain": [
       "<Figure size 432x288 with 1 Axes>"
      ]
     },
     "metadata": {
      "needs_background": "light"
     },
     "output_type": "display_data"
    }
   ],
   "source": [
    "sns.boxplot(data=house_df['Year Renovated'])"
   ]
  },
  {
   "cell_type": "code",
   "execution_count": 35,
   "id": "173a0c13",
   "metadata": {},
   "outputs": [
    {
     "data": {
      "text/plain": [
       "<AxesSubplot:>"
      ]
     },
     "execution_count": 35,
     "metadata": {},
     "output_type": "execute_result"
    },
    {
     "data": {
      "image/png": "[encoded data removed]",
      "text/plain": [
       "<Figure size 432x288 with 1 Axes>"
      ]
     },
     "metadata": {
      "needs_background": "light"
     },
     "output_type": "display_data"
    }
   ],
   "source": [
    "sns.boxplot(data=house_df['SQFT living 15'])"
   ]
  },
  {
   "cell_type": "code",
   "execution_count": 36,
   "id": "d7554121",
   "metadata": {},
   "outputs": [
    {
     "data": {
      "text/plain": [
       "<AxesSubplot:>"
      ]
     },
     "execution_count": 36,
     "metadata": {},
     "output_type": "execute_result"
    },
    {
     "data": {
      "image/png": "[encoded data removed]",
      "text/plain": [
       "<Figure size 432x288 with 1 Axes>"
      ]
     },
     "metadata": {
      "needs_background": "light"
     },
     "output_type": "display_data"
    }
   ],
   "source": [
    "sns.boxplot(data=house_df['SQFT lot 15'])"
   ]
  },
  {
   "cell_type": "code",
   "execution_count": null,
   "id": "100a959a",
   "metadata": {},
   "outputs": [],
   "source": []
  },
  {
   "cell_type": "markdown",
   "id": "b662e1d4",
   "metadata": {},
   "source": [
    "Q: Which variables/columns have outliers?"
   ]
  },
  {
   "cell_type": "markdown",
   "id": "805b94b3",
   "metadata": {},
   "source": [
    "A: ##### TO DO #####"
   ]
  },
  {
   "cell_type": "markdown",
   "id": "fa8404ee",
   "metadata": {},
   "source": [
    "### Step 5: Write Data Cleaning Plan "
   ]
  },
  {
   "cell_type": "code",
   "execution_count": 37,
   "id": "b8363572",
   "metadata": {},
   "outputs": [],
   "source": [
    "######################### TO DO ###################################\n",
    "\n",
    "####### FOLLOW PROJECT DIRECTIONS TO COMPLETE THIS STEP ###########"
   ]
  },
  {
   "cell_type": "markdown",
   "id": "ffaead81",
   "metadata": {},
   "source": [
    "#### Data Cleaning Plan:\n",
    "\n",
    "####### TO DO #######\n",
    "Drop unnamed 0 column from house data\n",
    "Drop unnamed 0 column from sales data\n",
    "Make columns lower case\n",
    "Remove punctuation in column names\n",
    "Make columns snake case\n",
    "Drop unnamed 0 column from sales data\n",
    "Make columns lower case\n",
    "Change id to string/object\n",
    "Change zipcode to string/object\n",
    "Change id to string/object\n",
    "Change date to datetime\n",
    "Change price to float"
   ]
  },
  {
   "cell_type": "markdown",
   "id": "2b013db9",
   "metadata": {},
   "source": [
    "## Part 3: Execute Data Cleaning Plan Using DEFINE / CLEAN / TEST Approach"
   ]
  },
  {
   "cell_type": "markdown",
   "id": "e3c2577a",
   "metadata": {},
   "source": [
    "### Step 1: Understand DEFINE / CLEAN / TEST Approach"
   ]
  },
  {
   "cell_type": "markdown",
   "id": "c83b7b6e",
   "metadata": {},
   "source": [
    "Refer to project instructions for an explanation of this step. You can copy and past the template in the cell below to use in each step of Part 3 as you are treating the issues you found in the data. "
   ]
  },
  {
   "cell_type": "code",
   "execution_count": 38,
   "id": "eb90626f",
   "metadata": {},
   "outputs": [],
   "source": [
    "### DEFINE ###\n",
    "\n",
    "\n",
    "### CLEAN ### \n",
    "\n",
    "\n",
    "### TEST ###\n"
   ]
  },
  {
   "cell_type": "markdown",
   "id": "659b978b",
   "metadata": {},
   "source": [
    "### Step 2: Treat Names / Casing / Spelling Issues"
   ]
  },
  {
   "cell_type": "code",
   "execution_count": 39,
   "id": "82b0d7c7",
   "metadata": {},
   "outputs": [],
   "source": [
    "######################### TO DO ###################################\n",
    "\n",
    "####### FOLLOW PROJECT DIRECTIONS TO COMPLETE THIS STEP ###########"
   ]
  },
  {
   "cell_type": "markdown",
   "id": "5f10c0db",
   "metadata": {},
   "source": [
    "##### Drop \"Unnamed: 0\" Column"
   ]
  },
  {
   "cell_type": "code",
   "execution_count": 40,
   "id": "96693e11",
   "metadata": {},
   "outputs": [
    {
     "data": {
      "text/html": [
       "<div>\n",
       "<style scoped>\n",
       "    .dataframe tbody tr th:only-of-type {\n",
       "        vertical-align: middle;\n",
       "    }\n",
       "\n",
       "    .dataframe tbody tr th {\n",
       "        vertical-align: top;\n",
       "    }\n",
       "\n",
       "    .dataframe thead th {\n",
       "        text-align: right;\n",
       "    }\n",
       "</style>\n",
       "<table border=\"1\" class=\"dataframe\">\n",
       "  <thead>\n",
       "    <tr style=\"text-align: right;\">\n",
       "      <th></th>\n",
       "      <th>ID</th>\n",
       "      <th>Bedrooms</th>\n",
       "      <th>Bathrooms</th>\n",
       "      <th>SQFT living</th>\n",
       "      <th>SQFT lot</th>\n",
       "      <th>Floors</th>\n",
       "      <th>Waterfront?</th>\n",
       "      <th>View</th>\n",
       "      <th>House Condition</th>\n",
       "      <th>Grade</th>\n",
       "      <th>SQFT above</th>\n",
       "      <th>SQFT basement</th>\n",
       "      <th>Year Built</th>\n",
       "      <th>Year Renovated</th>\n",
       "      <th>Zipcode</th>\n",
       "      <th>Lat</th>\n",
       "      <th>Long</th>\n",
       "      <th>SQFT living 15</th>\n",
       "      <th>SQFT lot 15</th>\n",
       "    </tr>\n",
       "  </thead>\n",
       "  <tbody>\n",
       "    <tr>\n",
       "      <th>0</th>\n",
       "      <td>7129300520</td>\n",
       "      <td>3</td>\n",
       "      <td>1.00</td>\n",
       "      <td>1180</td>\n",
       "      <td>5650.0</td>\n",
       "      <td>1.0</td>\n",
       "      <td>No</td>\n",
       "      <td>Very Poor</td>\n",
       "      <td>OK Condition</td>\n",
       "      <td>7.0</td>\n",
       "      <td>1180.0</td>\n",
       "      <td>0</td>\n",
       "      <td>1955.0</td>\n",
       "      <td>NaN</td>\n",
       "      <td>98178.0</td>\n",
       "      <td>47.5112</td>\n",
       "      <td>-122.257</td>\n",
       "      <td>1340</td>\n",
       "      <td>5650</td>\n",
       "    </tr>\n",
       "    <tr>\n",
       "      <th>1</th>\n",
       "      <td>6414100192</td>\n",
       "      <td>3</td>\n",
       "      <td>2.25</td>\n",
       "      <td>2570</td>\n",
       "      <td>7242.0</td>\n",
       "      <td>2.0</td>\n",
       "      <td>No</td>\n",
       "      <td>Very Poor</td>\n",
       "      <td>OK Condition</td>\n",
       "      <td>7.0</td>\n",
       "      <td>2170.0</td>\n",
       "      <td>400</td>\n",
       "      <td>1951.0</td>\n",
       "      <td>1991.0</td>\n",
       "      <td>98125.0</td>\n",
       "      <td>47.7210</td>\n",
       "      <td>-122.319</td>\n",
       "      <td>1690</td>\n",
       "      <td>7639</td>\n",
       "    </tr>\n",
       "    <tr>\n",
       "      <th>2</th>\n",
       "      <td>5631500400</td>\n",
       "      <td>2</td>\n",
       "      <td>1.00</td>\n",
       "      <td>770</td>\n",
       "      <td>10000.0</td>\n",
       "      <td>1.0</td>\n",
       "      <td>No</td>\n",
       "      <td>Very Poor</td>\n",
       "      <td>OK Condition</td>\n",
       "      <td>6.0</td>\n",
       "      <td>770.0</td>\n",
       "      <td>0</td>\n",
       "      <td>1933.0</td>\n",
       "      <td>NaN</td>\n",
       "      <td>98028.0</td>\n",
       "      <td>47.7379</td>\n",
       "      <td>-122.233</td>\n",
       "      <td>2720</td>\n",
       "      <td>8062</td>\n",
       "    </tr>\n",
       "    <tr>\n",
       "      <th>3</th>\n",
       "      <td>2487200875</td>\n",
       "      <td>4</td>\n",
       "      <td>3.00</td>\n",
       "      <td>1960</td>\n",
       "      <td>5000.0</td>\n",
       "      <td>1.0</td>\n",
       "      <td>No</td>\n",
       "      <td>Very Poor</td>\n",
       "      <td>Great Condition</td>\n",
       "      <td>7.0</td>\n",
       "      <td>1050.0</td>\n",
       "      <td>910</td>\n",
       "      <td>1965.0</td>\n",
       "      <td>NaN</td>\n",
       "      <td>98136.0</td>\n",
       "      <td>47.5208</td>\n",
       "      <td>-122.393</td>\n",
       "      <td>1360</td>\n",
       "      <td>5000</td>\n",
       "    </tr>\n",
       "    <tr>\n",
       "      <th>4</th>\n",
       "      <td>1954400510</td>\n",
       "      <td>3</td>\n",
       "      <td>2.00</td>\n",
       "      <td>1680</td>\n",
       "      <td>8080.0</td>\n",
       "      <td>1.0</td>\n",
       "      <td>No</td>\n",
       "      <td>Very Poor</td>\n",
       "      <td>OK Condition</td>\n",
       "      <td>8.0</td>\n",
       "      <td>1680.0</td>\n",
       "      <td>0</td>\n",
       "      <td>1987.0</td>\n",
       "      <td>NaN</td>\n",
       "      <td>98074.0</td>\n",
       "      <td>47.6168</td>\n",
       "      <td>-122.045</td>\n",
       "      <td>1800</td>\n",
       "      <td>7503</td>\n",
       "    </tr>\n",
       "  </tbody>\n",
       "</table>\n",
       "</div>"
      ],
      "text/plain": [
       "           ID  Bedrooms  Bathrooms  SQFT living  SQFT lot  Floors Waterfront?  \\\n",
       "0  7129300520         3       1.00         1180    5650.0     1.0          No   \n",
       "1  6414100192         3       2.25         2570    7242.0     2.0          No   \n",
       "2  5631500400         2       1.00          770   10000.0     1.0          No   \n",
       "3  2487200875         4       3.00         1960    5000.0     1.0          No   \n",
       "4  1954400510         3       2.00         1680    8080.0     1.0          No   \n",
       "\n",
       "        View  House Condition  Grade  SQFT above  SQFT basement  Year Built  \\\n",
       "0  Very Poor     OK Condition    7.0      1180.0              0      1955.0   \n",
       "1  Very Poor     OK Condition    7.0      2170.0            400      1951.0   \n",
       "2  Very Poor     OK Condition    6.0       770.0              0      1933.0   \n",
       "3  Very Poor  Great Condition    7.0      1050.0            910      1965.0   \n",
       "4  Very Poor     OK Condition    8.0      1680.0              0      1987.0   \n",
       "\n",
       "   Year Renovated  Zipcode      Lat     Long  SQFT living 15  SQFT lot 15  \n",
       "0             NaN  98178.0  47.5112 -122.257            1340         5650  \n",
       "1          1991.0  98125.0  47.7210 -122.319            1690         7639  \n",
       "2             NaN  98028.0  47.7379 -122.233            2720         8062  \n",
       "3             NaN  98136.0  47.5208 -122.393            1360         5000  \n",
       "4             NaN  98074.0  47.6168 -122.045            1800         7503  "
      ]
     },
     "execution_count": 40,
     "metadata": {},
     "output_type": "execute_result"
    }
   ],
   "source": [
    "### DEFINE ###\n",
    "# Drop \"Unnamed: 0\" column from DataFrame\n",
    "\n",
    "### CLEAN ### \n",
    "house_df.drop(columns=['Unnamed: 0'], inplace=True)\n",
    "\n",
    "### TEST ###\n",
    "house_df.head()\n"
   ]
  },
  {
   "cell_type": "markdown",
   "id": "f3cf9634",
   "metadata": {},
   "source": [
    "##### Drop \"Unnamed 0\" column from Sales DF"
   ]
  },
  {
   "cell_type": "code",
   "execution_count": 40,
   "id": "c2c7ed96",
   "metadata": {},
   "outputs": [
    {
     "data": {
      "text/html": [
       "<div>\n",
       "<style scoped>\n",
       "    .dataframe tbody tr th:only-of-type {\n",
       "        vertical-align: middle;\n",
       "    }\n",
       "\n",
       "    .dataframe tbody tr th {\n",
       "        vertical-align: top;\n",
       "    }\n",
       "\n",
       "    .dataframe thead th {\n",
       "        text-align: right;\n",
       "    }\n",
       "</style>\n",
       "<table border=\"1\" class=\"dataframe\">\n",
       "  <thead>\n",
       "    <tr style=\"text-align: right;\">\n",
       "      <th></th>\n",
       "      <th>ID</th>\n",
       "      <th>Bedrooms</th>\n",
       "      <th>Bathrooms</th>\n",
       "      <th>SQFT living</th>\n",
       "      <th>SQFT lot</th>\n",
       "      <th>Floors</th>\n",
       "      <th>Waterfront?</th>\n",
       "      <th>View</th>\n",
       "      <th>House Condition</th>\n",
       "      <th>Grade</th>\n",
       "      <th>SQFT above</th>\n",
       "      <th>SQFT basement</th>\n",
       "      <th>Year Built</th>\n",
       "      <th>Year Renovated</th>\n",
       "      <th>Zipcode</th>\n",
       "      <th>Lat</th>\n",
       "      <th>Long</th>\n",
       "      <th>SQFT living 15</th>\n",
       "      <th>SQFT lot 15</th>\n",
       "    </tr>\n",
       "  </thead>\n",
       "  <tbody>\n",
       "    <tr>\n",
       "      <th>0</th>\n",
       "      <td>7129300520</td>\n",
       "      <td>3</td>\n",
       "      <td>1.00</td>\n",
       "      <td>1180</td>\n",
       "      <td>5650.0</td>\n",
       "      <td>1.0</td>\n",
       "      <td>No</td>\n",
       "      <td>Very Poor</td>\n",
       "      <td>OK Condition</td>\n",
       "      <td>7.0</td>\n",
       "      <td>1180.0</td>\n",
       "      <td>0</td>\n",
       "      <td>1955.0</td>\n",
       "      <td>NaN</td>\n",
       "      <td>98178.0</td>\n",
       "      <td>47.5112</td>\n",
       "      <td>-122.257</td>\n",
       "      <td>1340</td>\n",
       "      <td>5650</td>\n",
       "    </tr>\n",
       "    <tr>\n",
       "      <th>1</th>\n",
       "      <td>6414100192</td>\n",
       "      <td>3</td>\n",
       "      <td>2.25</td>\n",
       "      <td>2570</td>\n",
       "      <td>7242.0</td>\n",
       "      <td>2.0</td>\n",
       "      <td>No</td>\n",
       "      <td>Very Poor</td>\n",
       "      <td>OK Condition</td>\n",
       "      <td>7.0</td>\n",
       "      <td>2170.0</td>\n",
       "      <td>400</td>\n",
       "      <td>1951.0</td>\n",
       "      <td>1991.0</td>\n",
       "      <td>98125.0</td>\n",
       "      <td>47.7210</td>\n",
       "      <td>-122.319</td>\n",
       "      <td>1690</td>\n",
       "      <td>7639</td>\n",
       "    </tr>\n",
       "    <tr>\n",
       "      <th>2</th>\n",
       "      <td>5631500400</td>\n",
       "      <td>2</td>\n",
       "      <td>1.00</td>\n",
       "      <td>770</td>\n",
       "      <td>10000.0</td>\n",
       "      <td>1.0</td>\n",
       "      <td>No</td>\n",
       "      <td>Very Poor</td>\n",
       "      <td>OK Condition</td>\n",
       "      <td>6.0</td>\n",
       "      <td>770.0</td>\n",
       "      <td>0</td>\n",
       "      <td>1933.0</td>\n",
       "      <td>NaN</td>\n",
       "      <td>98028.0</td>\n",
       "      <td>47.7379</td>\n",
       "      <td>-122.233</td>\n",
       "      <td>2720</td>\n",
       "      <td>8062</td>\n",
       "    </tr>\n",
       "    <tr>\n",
       "      <th>3</th>\n",
       "      <td>2487200875</td>\n",
       "      <td>4</td>\n",
       "      <td>3.00</td>\n",
       "      <td>1960</td>\n",
       "      <td>5000.0</td>\n",
       "      <td>1.0</td>\n",
       "      <td>No</td>\n",
       "      <td>Very Poor</td>\n",
       "      <td>Great Condition</td>\n",
       "      <td>7.0</td>\n",
       "      <td>1050.0</td>\n",
       "      <td>910</td>\n",
       "      <td>1965.0</td>\n",
       "      <td>NaN</td>\n",
       "      <td>98136.0</td>\n",
       "      <td>47.5208</td>\n",
       "      <td>-122.393</td>\n",
       "      <td>1360</td>\n",
       "      <td>5000</td>\n",
       "    </tr>\n",
       "    <tr>\n",
       "      <th>4</th>\n",
       "      <td>1954400510</td>\n",
       "      <td>3</td>\n",
       "      <td>2.00</td>\n",
       "      <td>1680</td>\n",
       "      <td>8080.0</td>\n",
       "      <td>1.0</td>\n",
       "      <td>No</td>\n",
       "      <td>Very Poor</td>\n",
       "      <td>OK Condition</td>\n",
       "      <td>8.0</td>\n",
       "      <td>1680.0</td>\n",
       "      <td>0</td>\n",
       "      <td>1987.0</td>\n",
       "      <td>NaN</td>\n",
       "      <td>98074.0</td>\n",
       "      <td>47.6168</td>\n",
       "      <td>-122.045</td>\n",
       "      <td>1800</td>\n",
       "      <td>7503</td>\n",
       "    </tr>\n",
       "  </tbody>\n",
       "</table>\n",
       "</div>"
      ],
      "text/plain": [
       "           ID  Bedrooms  Bathrooms  SQFT living  SQFT lot  Floors Waterfront?  \\\n",
       "0  7129300520         3       1.00         1180    5650.0     1.0          No   \n",
       "1  6414100192         3       2.25         2570    7242.0     2.0          No   \n",
       "2  5631500400         2       1.00          770   10000.0     1.0          No   \n",
       "3  2487200875         4       3.00         1960    5000.0     1.0          No   \n",
       "4  1954400510         3       2.00         1680    8080.0     1.0          No   \n",
       "\n",
       "        View  House Condition  Grade  SQFT above  SQFT basement  Year Built  \\\n",
       "0  Very Poor     OK Condition    7.0      1180.0              0      1955.0   \n",
       "1  Very Poor     OK Condition    7.0      2170.0            400      1951.0   \n",
       "2  Very Poor     OK Condition    6.0       770.0              0      1933.0   \n",
       "3  Very Poor  Great Condition    7.0      1050.0            910      1965.0   \n",
       "4  Very Poor     OK Condition    8.0      1680.0              0      1987.0   \n",
       "\n",
       "   Year Renovated  Zipcode      Lat     Long  SQFT living 15  SQFT lot 15  \n",
       "0             NaN  98178.0  47.5112 -122.257            1340         5650  \n",
       "1          1991.0  98125.0  47.7210 -122.319            1690         7639  \n",
       "2             NaN  98028.0  47.7379 -122.233            2720         8062  \n",
       "3             NaN  98136.0  47.5208 -122.393            1360         5000  \n",
       "4             NaN  98074.0  47.6168 -122.045            1800         7503  "
      ]
     },
     "execution_count": 40,
     "metadata": {},
     "output_type": "execute_result"
    }
   ],
   "source": [
    "### DEFINE ###\n",
    "# Drop \"Unnamed: 0\" column from DataFrame\n",
    "\n",
    "### CLEAN ### \n",
    "sales_df.drop(columns=['Unnamed: 0'], inplace=True)\n",
    "\n",
    "### TEST ###\n",
    "sales_df.head()\n"
   ]
  },
  {
   "cell_type": "markdown",
   "id": "f5da164b",
   "metadata": {},
   "source": [
    "##### Make columns lowercase "
   ]
  },
  {
   "cell_type": "code",
   "execution_count": 41,
   "id": "bf23dbae",
   "metadata": {
    "scrolled": true
   },
   "outputs": [
    {
     "data": {
      "text/html": [
       "<div>\n",
       "<style scoped>\n",
       "    .dataframe tbody tr th:only-of-type {\n",
       "        vertical-align: middle;\n",
       "    }\n",
       "\n",
       "    .dataframe tbody tr th {\n",
       "        vertical-align: top;\n",
       "    }\n",
       "\n",
       "    .dataframe thead th {\n",
       "        text-align: right;\n",
       "    }\n",
       "</style>\n",
       "<table border=\"1\" class=\"dataframe\">\n",
       "  <thead>\n",
       "    <tr style=\"text-align: right;\">\n",
       "      <th></th>\n",
       "      <th>id</th>\n",
       "      <th>bedrooms</th>\n",
       "      <th>bathrooms</th>\n",
       "      <th>sqft living</th>\n",
       "      <th>sqft lot</th>\n",
       "      <th>floors</th>\n",
       "      <th>waterfront?</th>\n",
       "      <th>view</th>\n",
       "      <th>house condition</th>\n",
       "      <th>grade</th>\n",
       "      <th>sqft above</th>\n",
       "      <th>sqft basement</th>\n",
       "      <th>year built</th>\n",
       "      <th>year renovated</th>\n",
       "      <th>zipcode</th>\n",
       "      <th>lat</th>\n",
       "      <th>long</th>\n",
       "      <th>sqft living 15</th>\n",
       "      <th>sqft lot 15</th>\n",
       "    </tr>\n",
       "  </thead>\n",
       "  <tbody>\n",
       "    <tr>\n",
       "      <th>0</th>\n",
       "      <td>7129300520</td>\n",
       "      <td>3</td>\n",
       "      <td>1.00</td>\n",
       "      <td>1180</td>\n",
       "      <td>5650.0</td>\n",
       "      <td>1.0</td>\n",
       "      <td>No</td>\n",
       "      <td>Very Poor</td>\n",
       "      <td>OK Condition</td>\n",
       "      <td>7.0</td>\n",
       "      <td>1180.0</td>\n",
       "      <td>0</td>\n",
       "      <td>1955.0</td>\n",
       "      <td>NaN</td>\n",
       "      <td>98178.0</td>\n",
       "      <td>47.5112</td>\n",
       "      <td>-122.257</td>\n",
       "      <td>1340</td>\n",
       "      <td>5650</td>\n",
       "    </tr>\n",
       "    <tr>\n",
       "      <th>1</th>\n",
       "      <td>6414100192</td>\n",
       "      <td>3</td>\n",
       "      <td>2.25</td>\n",
       "      <td>2570</td>\n",
       "      <td>7242.0</td>\n",
       "      <td>2.0</td>\n",
       "      <td>No</td>\n",
       "      <td>Very Poor</td>\n",
       "      <td>OK Condition</td>\n",
       "      <td>7.0</td>\n",
       "      <td>2170.0</td>\n",
       "      <td>400</td>\n",
       "      <td>1951.0</td>\n",
       "      <td>1991.0</td>\n",
       "      <td>98125.0</td>\n",
       "      <td>47.7210</td>\n",
       "      <td>-122.319</td>\n",
       "      <td>1690</td>\n",
       "      <td>7639</td>\n",
       "    </tr>\n",
       "    <tr>\n",
       "      <th>2</th>\n",
       "      <td>5631500400</td>\n",
       "      <td>2</td>\n",
       "      <td>1.00</td>\n",
       "      <td>770</td>\n",
       "      <td>10000.0</td>\n",
       "      <td>1.0</td>\n",
       "      <td>No</td>\n",
       "      <td>Very Poor</td>\n",
       "      <td>OK Condition</td>\n",
       "      <td>6.0</td>\n",
       "      <td>770.0</td>\n",
       "      <td>0</td>\n",
       "      <td>1933.0</td>\n",
       "      <td>NaN</td>\n",
       "      <td>98028.0</td>\n",
       "      <td>47.7379</td>\n",
       "      <td>-122.233</td>\n",
       "      <td>2720</td>\n",
       "      <td>8062</td>\n",
       "    </tr>\n",
       "    <tr>\n",
       "      <th>3</th>\n",
       "      <td>2487200875</td>\n",
       "      <td>4</td>\n",
       "      <td>3.00</td>\n",
       "      <td>1960</td>\n",
       "      <td>5000.0</td>\n",
       "      <td>1.0</td>\n",
       "      <td>No</td>\n",
       "      <td>Very Poor</td>\n",
       "      <td>Great Condition</td>\n",
       "      <td>7.0</td>\n",
       "      <td>1050.0</td>\n",
       "      <td>910</td>\n",
       "      <td>1965.0</td>\n",
       "      <td>NaN</td>\n",
       "      <td>98136.0</td>\n",
       "      <td>47.5208</td>\n",
       "      <td>-122.393</td>\n",
       "      <td>1360</td>\n",
       "      <td>5000</td>\n",
       "    </tr>\n",
       "    <tr>\n",
       "      <th>4</th>\n",
       "      <td>1954400510</td>\n",
       "      <td>3</td>\n",
       "      <td>2.00</td>\n",
       "      <td>1680</td>\n",
       "      <td>8080.0</td>\n",
       "      <td>1.0</td>\n",
       "      <td>No</td>\n",
       "      <td>Very Poor</td>\n",
       "      <td>OK Condition</td>\n",
       "      <td>8.0</td>\n",
       "      <td>1680.0</td>\n",
       "      <td>0</td>\n",
       "      <td>1987.0</td>\n",
       "      <td>NaN</td>\n",
       "      <td>98074.0</td>\n",
       "      <td>47.6168</td>\n",
       "      <td>-122.045</td>\n",
       "      <td>1800</td>\n",
       "      <td>7503</td>\n",
       "    </tr>\n",
       "  </tbody>\n",
       "</table>\n",
       "</div>"
      ],
      "text/plain": [
       "           id  bedrooms  bathrooms  sqft living  sqft lot  floors waterfront?  \\\n",
       "0  7129300520         3       1.00         1180    5650.0     1.0          No   \n",
       "1  6414100192         3       2.25         2570    7242.0     2.0          No   \n",
       "2  5631500400         2       1.00          770   10000.0     1.0          No   \n",
       "3  2487200875         4       3.00         1960    5000.0     1.0          No   \n",
       "4  1954400510         3       2.00         1680    8080.0     1.0          No   \n",
       "\n",
       "        view  house condition  grade  sqft above  sqft basement  year built  \\\n",
       "0  Very Poor     OK Condition    7.0      1180.0              0      1955.0   \n",
       "1  Very Poor     OK Condition    7.0      2170.0            400      1951.0   \n",
       "2  Very Poor     OK Condition    6.0       770.0              0      1933.0   \n",
       "3  Very Poor  Great Condition    7.0      1050.0            910      1965.0   \n",
       "4  Very Poor     OK Condition    8.0      1680.0              0      1987.0   \n",
       "\n",
       "   year renovated  zipcode      lat     long  sqft living 15  sqft lot 15  \n",
       "0             NaN  98178.0  47.5112 -122.257            1340         5650  \n",
       "1          1991.0  98125.0  47.7210 -122.319            1690         7639  \n",
       "2             NaN  98028.0  47.7379 -122.233            2720         8062  \n",
       "3             NaN  98136.0  47.5208 -122.393            1360         5000  \n",
       "4             NaN  98074.0  47.6168 -122.045            1800         7503  "
      ]
     },
     "execution_count": 41,
     "metadata": {},
     "output_type": "execute_result"
    }
   ],
   "source": [
    "### DEFINE ###\n",
    "# Make columns in house_df lowercase\n",
    "\n",
    "### CLEAN ### \n",
    "house_df.columns = house_df.columns.str.lower()\n",
    "\n",
    "### TEST ###\n",
    "house_df.head()\n"
   ]
  },
  {
   "cell_type": "code",
   "execution_count": 42,
   "id": "e4c7ca33",
   "metadata": {},
   "outputs": [
    {
     "data": {
      "text/html": [
       "<div>\n",
       "<style scoped>\n",
       "    .dataframe tbody tr th:only-of-type {\n",
       "        vertical-align: middle;\n",
       "    }\n",
       "\n",
       "    .dataframe tbody tr th {\n",
       "        vertical-align: top;\n",
       "    }\n",
       "\n",
       "    .dataframe thead th {\n",
       "        text-align: right;\n",
       "    }\n",
       "</style>\n",
       "<table border=\"1\" class=\"dataframe\">\n",
       "  <thead>\n",
       "    <tr style=\"text-align: right;\">\n",
       "      <th></th>\n",
       "      <th>unnamed: 0</th>\n",
       "      <th>id</th>\n",
       "      <th>date</th>\n",
       "      <th>price</th>\n",
       "    </tr>\n",
       "  </thead>\n",
       "  <tbody>\n",
       "    <tr>\n",
       "      <th>0</th>\n",
       "      <td>0</td>\n",
       "      <td>7129300520</td>\n",
       "      <td>20141013T000000</td>\n",
       "      <td>$221,900.00</td>\n",
       "    </tr>\n",
       "    <tr>\n",
       "      <th>1</th>\n",
       "      <td>1</td>\n",
       "      <td>6414100192</td>\n",
       "      <td>20141209T000000</td>\n",
       "      <td>$538,000.00</td>\n",
       "    </tr>\n",
       "    <tr>\n",
       "      <th>2</th>\n",
       "      <td>2</td>\n",
       "      <td>5631500400</td>\n",
       "      <td>20150225T000000</td>\n",
       "      <td>$180,000.00</td>\n",
       "    </tr>\n",
       "    <tr>\n",
       "      <th>3</th>\n",
       "      <td>3</td>\n",
       "      <td>2487200875</td>\n",
       "      <td>20141209T000000</td>\n",
       "      <td>$604,000.00</td>\n",
       "    </tr>\n",
       "    <tr>\n",
       "      <th>4</th>\n",
       "      <td>4</td>\n",
       "      <td>1954400510</td>\n",
       "      <td>20150218T000000</td>\n",
       "      <td>$510,000.00</td>\n",
       "    </tr>\n",
       "  </tbody>\n",
       "</table>\n",
       "</div>"
      ],
      "text/plain": [
       "   unnamed: 0          id             date        price\n",
       "0           0  7129300520  20141013T000000  $221,900.00\n",
       "1           1  6414100192  20141209T000000  $538,000.00\n",
       "2           2  5631500400  20150225T000000  $180,000.00\n",
       "3           3  2487200875  20141209T000000  $604,000.00\n",
       "4           4  1954400510  20150218T000000  $510,000.00"
      ]
     },
     "execution_count": 42,
     "metadata": {},
     "output_type": "execute_result"
    }
   ],
   "source": [
    "### DEFINE ###\n",
    "# make columns in sales_df lowercase\n",
    "\n",
    "### CLEAN ### \n",
    "sales_df.columns = sales_df.columns.str.lower()\n",
    "\n",
    "### TEST ###\n",
    "sales_df.head()\n"
   ]
  },
  {
   "cell_type": "markdown",
   "id": "aafd6d81",
   "metadata": {},
   "source": [
    "##### Remove punctuation from column names and convert them to snake_case"
   ]
  },
  {
   "cell_type": "code",
   "execution_count": 43,
   "id": "22270d56",
   "metadata": {
    "scrolled": true
   },
   "outputs": [
    {
     "data": {
      "text/html": [
       "<div>\n",
       "<style scoped>\n",
       "    .dataframe tbody tr th:only-of-type {\n",
       "        vertical-align: middle;\n",
       "    }\n",
       "\n",
       "    .dataframe tbody tr th {\n",
       "        vertical-align: top;\n",
       "    }\n",
       "\n",
       "    .dataframe thead th {\n",
       "        text-align: right;\n",
       "    }\n",
       "</style>\n",
       "<table border=\"1\" class=\"dataframe\">\n",
       "  <thead>\n",
       "    <tr style=\"text-align: right;\">\n",
       "      <th></th>\n",
       "      <th>id</th>\n",
       "      <th>bedrooms</th>\n",
       "      <th>bathrooms</th>\n",
       "      <th>sqft_living</th>\n",
       "      <th>sqft_lot</th>\n",
       "      <th>floors</th>\n",
       "      <th>waterfront</th>\n",
       "      <th>view</th>\n",
       "      <th>house_condition</th>\n",
       "      <th>grade</th>\n",
       "      <th>sqft_above</th>\n",
       "      <th>sqft_basement</th>\n",
       "      <th>year_built</th>\n",
       "      <th>year_renovated</th>\n",
       "      <th>zipcode</th>\n",
       "      <th>lat</th>\n",
       "      <th>long</th>\n",
       "      <th>sqft_living_15</th>\n",
       "      <th>sqft_lot_15</th>\n",
       "    </tr>\n",
       "  </thead>\n",
       "  <tbody>\n",
       "    <tr>\n",
       "      <th>0</th>\n",
       "      <td>7129300520</td>\n",
       "      <td>3</td>\n",
       "      <td>1.00</td>\n",
       "      <td>1180</td>\n",
       "      <td>5650.0</td>\n",
       "      <td>1.0</td>\n",
       "      <td>No</td>\n",
       "      <td>Very Poor</td>\n",
       "      <td>OK Condition</td>\n",
       "      <td>7.0</td>\n",
       "      <td>1180.0</td>\n",
       "      <td>0</td>\n",
       "      <td>1955.0</td>\n",
       "      <td>NaN</td>\n",
       "      <td>98178.0</td>\n",
       "      <td>47.5112</td>\n",
       "      <td>-122.257</td>\n",
       "      <td>1340</td>\n",
       "      <td>5650</td>\n",
       "    </tr>\n",
       "    <tr>\n",
       "      <th>1</th>\n",
       "      <td>6414100192</td>\n",
       "      <td>3</td>\n",
       "      <td>2.25</td>\n",
       "      <td>2570</td>\n",
       "      <td>7242.0</td>\n",
       "      <td>2.0</td>\n",
       "      <td>No</td>\n",
       "      <td>Very Poor</td>\n",
       "      <td>OK Condition</td>\n",
       "      <td>7.0</td>\n",
       "      <td>2170.0</td>\n",
       "      <td>400</td>\n",
       "      <td>1951.0</td>\n",
       "      <td>1991.0</td>\n",
       "      <td>98125.0</td>\n",
       "      <td>47.7210</td>\n",
       "      <td>-122.319</td>\n",
       "      <td>1690</td>\n",
       "      <td>7639</td>\n",
       "    </tr>\n",
       "    <tr>\n",
       "      <th>2</th>\n",
       "      <td>5631500400</td>\n",
       "      <td>2</td>\n",
       "      <td>1.00</td>\n",
       "      <td>770</td>\n",
       "      <td>10000.0</td>\n",
       "      <td>1.0</td>\n",
       "      <td>No</td>\n",
       "      <td>Very Poor</td>\n",
       "      <td>OK Condition</td>\n",
       "      <td>6.0</td>\n",
       "      <td>770.0</td>\n",
       "      <td>0</td>\n",
       "      <td>1933.0</td>\n",
       "      <td>NaN</td>\n",
       "      <td>98028.0</td>\n",
       "      <td>47.7379</td>\n",
       "      <td>-122.233</td>\n",
       "      <td>2720</td>\n",
       "      <td>8062</td>\n",
       "    </tr>\n",
       "    <tr>\n",
       "      <th>3</th>\n",
       "      <td>2487200875</td>\n",
       "      <td>4</td>\n",
       "      <td>3.00</td>\n",
       "      <td>1960</td>\n",
       "      <td>5000.0</td>\n",
       "      <td>1.0</td>\n",
       "      <td>No</td>\n",
       "      <td>Very Poor</td>\n",
       "      <td>Great Condition</td>\n",
       "      <td>7.0</td>\n",
       "      <td>1050.0</td>\n",
       "      <td>910</td>\n",
       "      <td>1965.0</td>\n",
       "      <td>NaN</td>\n",
       "      <td>98136.0</td>\n",
       "      <td>47.5208</td>\n",
       "      <td>-122.393</td>\n",
       "      <td>1360</td>\n",
       "      <td>5000</td>\n",
       "    </tr>\n",
       "    <tr>\n",
       "      <th>4</th>\n",
       "      <td>1954400510</td>\n",
       "      <td>3</td>\n",
       "      <td>2.00</td>\n",
       "      <td>1680</td>\n",
       "      <td>8080.0</td>\n",
       "      <td>1.0</td>\n",
       "      <td>No</td>\n",
       "      <td>Very Poor</td>\n",
       "      <td>OK Condition</td>\n",
       "      <td>8.0</td>\n",
       "      <td>1680.0</td>\n",
       "      <td>0</td>\n",
       "      <td>1987.0</td>\n",
       "      <td>NaN</td>\n",
       "      <td>98074.0</td>\n",
       "      <td>47.6168</td>\n",
       "      <td>-122.045</td>\n",
       "      <td>1800</td>\n",
       "      <td>7503</td>\n",
       "    </tr>\n",
       "  </tbody>\n",
       "</table>\n",
       "</div>"
      ],
      "text/plain": [
       "           id  bedrooms  bathrooms  sqft_living  sqft_lot  floors waterfront  \\\n",
       "0  7129300520         3       1.00         1180    5650.0     1.0         No   \n",
       "1  6414100192         3       2.25         2570    7242.0     2.0         No   \n",
       "2  5631500400         2       1.00          770   10000.0     1.0         No   \n",
       "3  2487200875         4       3.00         1960    5000.0     1.0         No   \n",
       "4  1954400510         3       2.00         1680    8080.0     1.0         No   \n",
       "\n",
       "        view  house_condition  grade  sqft_above  sqft_basement  year_built  \\\n",
       "0  Very Poor     OK Condition    7.0      1180.0              0      1955.0   \n",
       "1  Very Poor     OK Condition    7.0      2170.0            400      1951.0   \n",
       "2  Very Poor     OK Condition    6.0       770.0              0      1933.0   \n",
       "3  Very Poor  Great Condition    7.0      1050.0            910      1965.0   \n",
       "4  Very Poor     OK Condition    8.0      1680.0              0      1987.0   \n",
       "\n",
       "   year_renovated  zipcode      lat     long  sqft_living_15  sqft_lot_15  \n",
       "0             NaN  98178.0  47.5112 -122.257            1340         5650  \n",
       "1          1991.0  98125.0  47.7210 -122.319            1690         7639  \n",
       "2             NaN  98028.0  47.7379 -122.233            2720         8062  \n",
       "3             NaN  98136.0  47.5208 -122.393            1360         5000  \n",
       "4             NaN  98074.0  47.6168 -122.045            1800         7503  "
      ]
     },
     "execution_count": 43,
     "metadata": {},
     "output_type": "execute_result"
    }
   ],
   "source": [
    "### DEFINE ###\n",
    "# Remove punctuation and spaces from column names in house_df, convert them to snake case\n",
    "\n",
    "### CLEAN ### \n",
    "import regex as re\n",
    "\n",
    "column_list = house_df.columns.to_list()\n",
    "new_columns = []\n",
    "\n",
    "for column in column_list:\n",
    "    column = column.replace(\" \", \"_\")\n",
    "    column = column.replace(\"?\", \"\")\n",
    "        \n",
    "    new_columns.append(column)\n",
    "\n",
    "house_df.columns = new_columns\n",
    "\n",
    "### TEST ###\n",
    "house_df.head()\n"
   ]
  },
  {
   "cell_type": "markdown",
   "id": "b4fd8ae8",
   "metadata": {},
   "source": [
    "###### Change id column from an integer to a string/object"
   ]
  },
  {
   "cell_type": "code",
   "execution_count": 49,
   "id": "b9667fd3",
   "metadata": {},
   "outputs": [
    {
     "name": "stdout",
     "output_type": "stream",
     "text": [
      "0        7129300520\n",
      "1        6414100192\n",
      "2        5631500400\n",
      "3        2487200875\n",
      "4        1954400510\n",
      "            ...    \n",
      "21608     263000018\n",
      "21609    6600060120\n",
      "21610    1523300141\n",
      "21611     291310100\n",
      "21612    1523300157\n",
      "Name: id, Length: 21613, dtype: object\n"
     ]
    }
   ],
   "source": [
    "### DEFINE ###\n",
    "\n",
    "# The id column is currently an integer data type. It needs to be changed to a string/object.\n",
    "\n",
    "### CLEAN ### \n",
    "\n",
    "house_df.id = house_df.id.astype(str)\n",
    "\n",
    "### TEST ###\n",
    "\n",
    "print(house_df['id']) # successful output should show the id dtype as an object"
   ]
  },
  {
   "cell_type": "code",
   "execution_count": 50,
   "id": "08ee354d",
   "metadata": {},
   "outputs": [
    {
     "name": "stdout",
     "output_type": "stream",
     "text": [
      "0        7129300520\n",
      "1        6414100192\n",
      "2        5631500400\n",
      "3        2487200875\n",
      "4        1954400510\n",
      "            ...    \n",
      "21608     263000018\n",
      "21609    6600060120\n",
      "21610    1523300141\n",
      "21611     291310100\n",
      "21612    1523300157\n",
      "Name: id, Length: 21613, dtype: object\n"
     ]
    }
   ],
   "source": [
    "### DEFINE ###\n",
    "# The id column is currently an integer data type. It needs to be changed to a string/object.\n",
    "\n",
    "### CLEAN ### \n",
    "sales_df.id = house_df.id.astype(str)\n",
    "\n",
    "### TEST ###\n",
    "print(sales_df.id) # successful output should show the id dtype as an object\n"
   ]
  },
  {
   "cell_type": "markdown",
   "id": "f62780f1",
   "metadata": {},
   "source": [
    "##### Change zipcode to string"
   ]
  },
  {
   "cell_type": "code",
   "execution_count": 45,
   "id": "d08dc01a",
   "metadata": {
    "scrolled": true
   },
   "outputs": [
    {
     "name": "stdout",
     "output_type": "stream",
     "text": [
      "0        98178\n",
      "1        98125\n",
      "2        98028\n",
      "3        98136\n",
      "4        98074\n",
      "         ...  \n",
      "21608    98103\n",
      "21609    98146\n",
      "21610    98144\n",
      "21611    98027\n",
      "21612    98144\n",
      "Name: zipcode, Length: 21613, dtype: object\n"
     ]
    }
   ],
   "source": [
    "### DEFINE ###\n",
    "# Change zipcode column in house_df to string/object data type\n",
    "\n",
    "### CLEAN ### \n",
    "# converts zipcode to string\n",
    "house_df['zipcode'] = house_df['zipcode'].astype(str)\n",
    "\n",
    "# strips off '.0' from each value for proper zipcode format\n",
    "house_df['zipcode'] = house_df['zipcode'].map(lambda x: x.rstrip('.0'))\n",
    "\n",
    "### TEST ###\n",
    "print(house_df.zipcode)\n"
   ]
  },
  {
   "cell_type": "markdown",
   "id": "dfb8b532",
   "metadata": {},
   "source": [
    "##### Change date in sales_df to datetime data type"
   ]
  },
  {
   "cell_type": "code",
   "execution_count": 46,
   "id": "d5be7f4c",
   "metadata": {
    "scrolled": true
   },
   "outputs": [
    {
     "name": "stdout",
     "output_type": "stream",
     "text": [
      "0       2014-10-13\n",
      "1       2014-12-09\n",
      "2       2015-02-25\n",
      "3       2014-12-09\n",
      "4       2015-02-18\n",
      "           ...    \n",
      "21608   2014-05-21\n",
      "21609   2015-02-23\n",
      "21610   2014-06-23\n",
      "21611   2015-01-16\n",
      "21612   2014-10-15\n",
      "Name: date, Length: 21613, dtype: datetime64[ns]\n"
     ]
    }
   ],
   "source": [
    "### DEFINE ###\n",
    "# change date column to datetime data type instead of string\n",
    "\n",
    "### CLEAN ### \n",
    "# trims blank timestamps off each value in date column\n",
    "sales_df['date'] = sales_df['date'].str.replace('T000000', '') \n",
    "\n",
    "# converts integers into datetime data type\n",
    "sales_df['date'] = pd.to_datetime(sales_df['date'], format='%Y%m%d')\n",
    "\n",
    "### TEST ###\n",
    "# prints date column - successful output should be YYYY-MM-DD with a dtpye: datetime\n",
    "print(sales_df['date'])\n",
    "\n"
   ]
  },
  {
   "cell_type": "markdown",
   "id": "370f2122",
   "metadata": {},
   "source": [
    "##### Change price column in sales_df to float instead of string "
   ]
  },
  {
   "cell_type": "code",
   "execution_count": 47,
   "id": "c7055154",
   "metadata": {},
   "outputs": [
    {
     "name": "stdout",
     "output_type": "stream",
     "text": [
      "0        221900.0\n",
      "1        538000.0\n",
      "2        180000.0\n",
      "3        604000.0\n",
      "4        510000.0\n",
      "           ...   \n",
      "21608    360000.0\n",
      "21609    400000.0\n",
      "21610    402101.0\n",
      "21611    400000.0\n",
      "21612    325000.0\n",
      "Name: price, Length: 21613, dtype: float64\n"
     ]
    }
   ],
   "source": [
    "### DEFINE ###\n",
    "\n",
    "# price column in sales_df needs to be a float\n",
    "# first the $'s and ,'s will need to be taken out, then the data type can be converted\n",
    "\n",
    "### CLEAN ### \n",
    "\n",
    "# replaces dollar signs with empty string\n",
    "sales_df['price'] = sales_df['price'].str.replace('$', '', regex=True)\n",
    "\n",
    "# replaces commas with empty string and converts to float\n",
    "sales_df['price'] = sales_df['price'].str.replace(',', '', regex=True).astype(float)\n",
    "\n",
    "\n",
    "\n",
    "### TEST ###\n",
    "\n",
    "# prints price column - successful output should have no punctuation and should be a dtype: float\n",
    "print(sales_df['price'])"
   ]
  },
  {
   "cell_type": "markdown",
   "id": "33e34ee1",
   "metadata": {},
   "source": [
    "### Step 3: Treat Missing Values"
   ]
  },
  {
   "cell_type": "code",
   "execution_count": 26,
   "id": "86a525d0",
   "metadata": {},
   "outputs": [],
   "source": [
    "######################### TO DO ###################################\n",
    "\n",
    "####### FOLLOW PROJECT DIRECTIONS TO COMPLETE THIS STEP ###########"
   ]
  },
  {
   "cell_type": "markdown",
   "id": "331c59c3",
   "metadata": {},
   "source": [
    "House_df:\n",
    "\n",
    "bathrooms - fill in with mean\n",
    "sqft_lot - delete rows with null values\n",
    "view - delete rows with null values\n",
    "house_condition - fill in with mode\n",
    "grade - fill in with mean\n",
    "sqft_above - delete rows with null values\n",
    "year_built - delete rows with null values\n",
    "year_renovated - delete entire column\n",
    "zipcode - delete rows with null values\n",
    "lat - delete rows with null values\n",
    "long - delete rows with null values\n",
    "Sales_df:\n",
    "\n",
    "price - delete rows where there are null values"
   ]
  },
  {
   "cell_type": "markdown",
   "id": "5144bc42",
   "metadata": {},
   "source": [
    "##### Delete year renovated column "
   ]
  },
  {
   "cell_type": "code",
   "execution_count": 52,
   "id": "4ea01014",
   "metadata": {},
   "outputs": [
    {
     "name": "stdout",
     "output_type": "stream",
     "text": [
      "<class 'pandas.core.frame.DataFrame'>\n",
      "RangeIndex: 21613 entries, 0 to 21612\n",
      "Data columns (total 18 columns):\n",
      " #   Column           Non-Null Count  Dtype  \n",
      "---  ------           --------------  -----  \n",
      " 0   id               21613 non-null  object \n",
      " 1   bedrooms         21613 non-null  int64  \n",
      " 2   bathrooms        21611 non-null  float64\n",
      " 3   sqft_living      21613 non-null  int64  \n",
      " 4   sqft_lot         21611 non-null  float64\n",
      " 5   floors           21613 non-null  float64\n",
      " 6   waterfront       21605 non-null  object \n",
      " 7   view             21611 non-null  object \n",
      " 8   house_condition  21607 non-null  object \n",
      " 9   grade            21611 non-null  float64\n",
      " 10  sqft_above       21612 non-null  float64\n",
      " 11  sqft_basement    21613 non-null  int64  \n",
      " 12  year_built       21612 non-null  float64\n",
      " 13  zipcode          21613 non-null  object \n",
      " 14  lat              21612 non-null  float64\n",
      " 15  long             21612 non-null  float64\n",
      " 16  sqft_living_15   21613 non-null  int64  \n",
      " 17  sqft_lot_15      21613 non-null  int64  \n",
      "dtypes: float64(8), int64(5), object(5)\n",
      "memory usage: 3.0+ MB\n"
     ]
    }
   ],
   "source": [
    "### DEFINE ###\n",
    "# drop year renovated column because of the number of 0's and missing values\n",
    "\n",
    "### CLEAN ### \n",
    "house_df.drop(columns=['year_renovated'], inplace=True)\n",
    "\n",
    "### TEST ###\n",
    "house_df.info() # successful output will show year_renovated missing from the df\n"
   ]
  },
  {
   "cell_type": "markdown",
   "id": "73f178dd",
   "metadata": {},
   "source": [
    "###### Fill missing values in bathrooms column with mean"
   ]
  },
  {
   "cell_type": "code",
   "execution_count": 53,
   "id": "3781a0c4",
   "metadata": {},
   "outputs": [
    {
     "data": {
      "text/plain": [
       "0"
      ]
     },
     "execution_count": 53,
     "metadata": {},
     "output_type": "execute_result"
    }
   ],
   "source": [
    "### DEFINE ###\n",
    "\n",
    "# There are 2 missing values in the bathroom column.\n",
    "# The missing values will be filled with the mean. \n",
    "\n",
    "### CLEAN ### \n",
    "\n",
    "house_df.bathrooms = house_df.bathrooms.fillna(house_df.bathrooms.mean())\n",
    "\n",
    "### TEST ###\n",
    "\n",
    "house_df.bathrooms.isnull().sum() # successful output should be 0 to no longer show any null values"
   ]
  },
  {
   "cell_type": "markdown",
   "id": "b44a5b59",
   "metadata": {},
   "source": [
    "##### Fill missing values in grade with mean"
   ]
  },
  {
   "cell_type": "code",
   "execution_count": 54,
   "id": "3f4cad5c",
   "metadata": {},
   "outputs": [
    {
     "data": {
      "text/plain": [
       "0"
      ]
     },
     "execution_count": 54,
     "metadata": {},
     "output_type": "execute_result"
    }
   ],
   "source": [
    "### DEFINE ###\n",
    "\n",
    "# fill missing values in the grade column with the mean\n",
    "\n",
    "### CLEAN ### \n",
    "\n",
    "house_df['grade'] = house_df['grade'].fillna(value=house_df['grade'].mean())\n",
    "\n",
    "### TEST ###\n",
    "\n",
    "house_df['grade'].isnull().sum() # successful output should be 0\n"
   ]
  },
  {
   "cell_type": "markdown",
   "id": "c9ab4b39",
   "metadata": {},
   "source": [
    "###### Fill missing values in condition column with mode"
   ]
  },
  {
   "cell_type": "code",
   "execution_count": 55,
   "id": "3fdee8b2",
   "metadata": {},
   "outputs": [
    {
     "data": {
      "text/plain": [
       "0"
      ]
     },
     "execution_count": 55,
     "metadata": {},
     "output_type": "execute_result"
    }
   ],
   "source": [
    "### DEFINE ###\n",
    "\n",
    "# There are 6 missing values in the condition column which will be replaced by the mode.\n",
    "\n",
    "### CLEAN ### \n",
    "\n",
    "# saves mode to a variable\n",
    "condition_mode = house_df['house_condition'].mode()\n",
    "\n",
    "# fills na with mode - must add [0] because .mode() returns a series\n",
    "house_df['house_condition'].fillna(value=condition_mode[0], inplace=True) \n",
    "\n",
    "### TEST ###\n",
    "\n",
    "# successful output should be 0 to no longer show any null values\n",
    "house_df.house_condition.isnull().sum()\n"
   ]
  },
  {
   "cell_type": "markdown",
   "id": "6a864fa3",
   "metadata": {},
   "source": [
    "##### Drop any rows with na values - this takes care of the rest of the columns "
   ]
  },
  {
   "cell_type": "code",
   "execution_count": 56,
   "id": "4cb747b9",
   "metadata": {},
   "outputs": [
    {
     "data": {
      "text/plain": [
       "id                 0\n",
       "bedrooms           0\n",
       "bathrooms          0\n",
       "sqft_living        0\n",
       "sqft_lot           0\n",
       "floors             0\n",
       "waterfront         0\n",
       "view               0\n",
       "house_condition    0\n",
       "grade              0\n",
       "sqft_above         0\n",
       "sqft_basement      0\n",
       "year_built         0\n",
       "zipcode            0\n",
       "lat                0\n",
       "long               0\n",
       "sqft_living_15     0\n",
       "sqft_lot_15        0\n",
       "dtype: int64"
      ]
     },
     "execution_count": 56,
     "metadata": {},
     "output_type": "execute_result"
    }
   ],
   "source": [
    "### DEFINE ###\n",
    "\n",
    "# drop rows in the dataframe with null values\n",
    "\n",
    "### CLEAN ### \n",
    "\n",
    "house_df.dropna(axis=0, how='any', inplace=True)\n",
    "\n",
    "### TEST ###\n",
    "\n",
    "house_df.isnull().sum() #successfull output should show 0 missing values in all rows"
   ]
  },
  {
   "cell_type": "markdown",
   "id": "02575936",
   "metadata": {},
   "source": [
    "#####  Delete rows in sales_df where price is null"
   ]
  },
  {
   "cell_type": "code",
   "execution_count": 57,
   "id": "2d44dc3f",
   "metadata": {},
   "outputs": [
    {
     "data": {
      "text/plain": [
       "unnamed: 0    0\n",
       "id            0\n",
       "date          0\n",
       "price         0\n",
       "dtype: int64"
      ]
     },
     "execution_count": 57,
     "metadata": {},
     "output_type": "execute_result"
    }
   ],
   "source": [
    "### DEFINE ###\n",
    "\n",
    "# delete rows in sales_df where there are missing values\n",
    "\n",
    "### CLEAN ### \n",
    "\n",
    "sales_df.dropna(axis=0, how='any', inplace=True)\n",
    "\n",
    "### TEST ###\n",
    "\n",
    "sales_df.isnull().sum() # successful output should show 0 missing values in all rows"
   ]
  },
  {
   "cell_type": "markdown",
   "id": "8397cecc",
   "metadata": {},
   "source": [
    "### Step 4: Treat Outliers"
   ]
  },
  {
   "cell_type": "code",
   "execution_count": 28,
   "id": "217889fd",
   "metadata": {},
   "outputs": [],
   "source": [
    "######################### TO DO ###################################\n",
    "\n",
    "####### FOLLOW PROJECT DIRECTIONS TO COMPLETE THIS STEP ###########"
   ]
  },
  {
   "cell_type": "code",
   "execution_count": 62,
   "id": "8c8887d8",
   "metadata": {},
   "outputs": [],
   "source": [
    "from scipy.stats import zscore"
   ]
  },
  {
   "cell_type": "code",
   "execution_count": 63,
   "id": "e4f441ef",
   "metadata": {},
   "outputs": [],
   "source": [
    "house_df['sqft_living_zscore'] = zscore(house_df['sqft_living'])"
   ]
  },
  {
   "cell_type": "code",
   "execution_count": 64,
   "id": "8ae73f11",
   "metadata": {},
   "outputs": [
    {
     "data": {
      "text/html": [
       "<div>\n",
       "<style scoped>\n",
       "    .dataframe tbody tr th:only-of-type {\n",
       "        vertical-align: middle;\n",
       "    }\n",
       "\n",
       "    .dataframe tbody tr th {\n",
       "        vertical-align: top;\n",
       "    }\n",
       "\n",
       "    .dataframe thead th {\n",
       "        text-align: right;\n",
       "    }\n",
       "</style>\n",
       "<table border=\"1\" class=\"dataframe\">\n",
       "  <thead>\n",
       "    <tr style=\"text-align: right;\">\n",
       "      <th></th>\n",
       "      <th>id</th>\n",
       "      <th>bedrooms</th>\n",
       "      <th>bathrooms</th>\n",
       "      <th>sqft_living</th>\n",
       "      <th>sqft_lot</th>\n",
       "      <th>floors</th>\n",
       "      <th>waterfront</th>\n",
       "      <th>view</th>\n",
       "      <th>house_condition</th>\n",
       "      <th>grade</th>\n",
       "      <th>sqft_above</th>\n",
       "      <th>sqft_basement</th>\n",
       "      <th>year_built</th>\n",
       "      <th>zipcode</th>\n",
       "      <th>lat</th>\n",
       "      <th>long</th>\n",
       "      <th>sqft_living_15</th>\n",
       "      <th>sqft_lot_15</th>\n",
       "      <th>sqft_living_zscore</th>\n",
       "    </tr>\n",
       "  </thead>\n",
       "  <tbody>\n",
       "    <tr>\n",
       "      <th>70</th>\n",
       "      <td>1525059190</td>\n",
       "      <td>5</td>\n",
       "      <td>3.25</td>\n",
       "      <td>4770</td>\n",
       "      <td>50094.0</td>\n",
       "      <td>1.0</td>\n",
       "      <td>No</td>\n",
       "      <td>Very Poor</td>\n",
       "      <td>Good Condition</td>\n",
       "      <td>11.0</td>\n",
       "      <td>3070.0</td>\n",
       "      <td>1700</td>\n",
       "      <td>1973.0</td>\n",
       "      <td>98005</td>\n",
       "      <td>47.6525</td>\n",
       "      <td>-122.160</td>\n",
       "      <td>3530</td>\n",
       "      <td>38917</td>\n",
       "      <td>3.330195</td>\n",
       "    </tr>\n",
       "    <tr>\n",
       "      <th>300</th>\n",
       "      <td>3225069065</td>\n",
       "      <td>4</td>\n",
       "      <td>5.00</td>\n",
       "      <td>4550</td>\n",
       "      <td>18641.0</td>\n",
       "      <td>1.0</td>\n",
       "      <td>Yes</td>\n",
       "      <td>Great</td>\n",
       "      <td>OK Condition</td>\n",
       "      <td>10.0</td>\n",
       "      <td>2600.0</td>\n",
       "      <td>1950</td>\n",
       "      <td>2002.0</td>\n",
       "      <td>98074</td>\n",
       "      <td>47.6053</td>\n",
       "      <td>-122.077</td>\n",
       "      <td>4550</td>\n",
       "      <td>19508</td>\n",
       "      <td>3.062195</td>\n",
       "    </tr>\n",
       "    <tr>\n",
       "      <th>384</th>\n",
       "      <td>713500030</td>\n",
       "      <td>5</td>\n",
       "      <td>3.50</td>\n",
       "      <td>4800</td>\n",
       "      <td>14984.0</td>\n",
       "      <td>2.0</td>\n",
       "      <td>No</td>\n",
       "      <td>Neutral</td>\n",
       "      <td>OK Condition</td>\n",
       "      <td>11.0</td>\n",
       "      <td>3480.0</td>\n",
       "      <td>1320</td>\n",
       "      <td>1998.0</td>\n",
       "      <td>98006</td>\n",
       "      <td>47.5543</td>\n",
       "      <td>-122.148</td>\n",
       "      <td>4050</td>\n",
       "      <td>19009</td>\n",
       "      <td>3.366741</td>\n",
       "    </tr>\n",
       "    <tr>\n",
       "      <th>518</th>\n",
       "      <td>4386700135</td>\n",
       "      <td>4</td>\n",
       "      <td>2.25</td>\n",
       "      <td>4760</td>\n",
       "      <td>8036.0</td>\n",
       "      <td>2.5</td>\n",
       "      <td>No</td>\n",
       "      <td>Very Poor</td>\n",
       "      <td>Great Condition</td>\n",
       "      <td>9.0</td>\n",
       "      <td>3390.0</td>\n",
       "      <td>1370</td>\n",
       "      <td>1916.0</td>\n",
       "      <td>98112</td>\n",
       "      <td>47.6415</td>\n",
       "      <td>-122.285</td>\n",
       "      <td>2950</td>\n",
       "      <td>9323</td>\n",
       "      <td>3.318013</td>\n",
       "    </tr>\n",
       "    <tr>\n",
       "      <th>532</th>\n",
       "      <td>4403600270</td>\n",
       "      <td>4</td>\n",
       "      <td>3.25</td>\n",
       "      <td>4740</td>\n",
       "      <td>76230.0</td>\n",
       "      <td>2.0</td>\n",
       "      <td>No</td>\n",
       "      <td>Very Poor</td>\n",
       "      <td>OK Condition</td>\n",
       "      <td>10.0</td>\n",
       "      <td>4740.0</td>\n",
       "      <td>0</td>\n",
       "      <td>1987.0</td>\n",
       "      <td>98075</td>\n",
       "      <td>47.5931</td>\n",
       "      <td>-122.071</td>\n",
       "      <td>3340</td>\n",
       "      <td>49206</td>\n",
       "      <td>3.293650</td>\n",
       "    </tr>\n",
       "    <tr>\n",
       "      <th>...</th>\n",
       "      <td>...</td>\n",
       "      <td>...</td>\n",
       "      <td>...</td>\n",
       "      <td>...</td>\n",
       "      <td>...</td>\n",
       "      <td>...</td>\n",
       "      <td>...</td>\n",
       "      <td>...</td>\n",
       "      <td>...</td>\n",
       "      <td>...</td>\n",
       "      <td>...</td>\n",
       "      <td>...</td>\n",
       "      <td>...</td>\n",
       "      <td>...</td>\n",
       "      <td>...</td>\n",
       "      <td>...</td>\n",
       "      <td>...</td>\n",
       "      <td>...</td>\n",
       "      <td>...</td>\n",
       "    </tr>\n",
       "    <tr>\n",
       "      <th>20973</th>\n",
       "      <td>1239400650</td>\n",
       "      <td>4</td>\n",
       "      <td>3.50</td>\n",
       "      <td>4700</td>\n",
       "      <td>10183.0</td>\n",
       "      <td>1.0</td>\n",
       "      <td>No</td>\n",
       "      <td>Neutral</td>\n",
       "      <td>OK Condition</td>\n",
       "      <td>11.0</td>\n",
       "      <td>2660.0</td>\n",
       "      <td>2040</td>\n",
       "      <td>2002.0</td>\n",
       "      <td>98033</td>\n",
       "      <td>47.6728</td>\n",
       "      <td>-122.189</td>\n",
       "      <td>3770</td>\n",
       "      <td>9000</td>\n",
       "      <td>3.244922</td>\n",
       "    </tr>\n",
       "    <tr>\n",
       "      <th>21321</th>\n",
       "      <td>2387600010</td>\n",
       "      <td>4</td>\n",
       "      <td>3.50</td>\n",
       "      <td>4680</td>\n",
       "      <td>12495.0</td>\n",
       "      <td>2.0</td>\n",
       "      <td>No</td>\n",
       "      <td>Very Poor</td>\n",
       "      <td>OK Condition</td>\n",
       "      <td>10.0</td>\n",
       "      <td>3040.0</td>\n",
       "      <td>1640</td>\n",
       "      <td>2008.0</td>\n",
       "      <td>98033</td>\n",
       "      <td>47.6984</td>\n",
       "      <td>-122.206</td>\n",
       "      <td>3240</td>\n",
       "      <td>10749</td>\n",
       "      <td>3.220559</td>\n",
       "    </tr>\n",
       "    <tr>\n",
       "      <th>21485</th>\n",
       "      <td>1088100450</td>\n",
       "      <td>5</td>\n",
       "      <td>4.00</td>\n",
       "      <td>4590</td>\n",
       "      <td>35046.0</td>\n",
       "      <td>2.0</td>\n",
       "      <td>No</td>\n",
       "      <td>Very Poor</td>\n",
       "      <td>OK Condition</td>\n",
       "      <td>10.0</td>\n",
       "      <td>4590.0</td>\n",
       "      <td>0</td>\n",
       "      <td>2008.0</td>\n",
       "      <td>98033</td>\n",
       "      <td>47.6647</td>\n",
       "      <td>-122.160</td>\n",
       "      <td>3350</td>\n",
       "      <td>35857</td>\n",
       "      <td>3.110922</td>\n",
       "    </tr>\n",
       "    <tr>\n",
       "      <th>21486</th>\n",
       "      <td>98300230</td>\n",
       "      <td>4</td>\n",
       "      <td>4.00</td>\n",
       "      <td>4620</td>\n",
       "      <td>130208.0</td>\n",
       "      <td>2.0</td>\n",
       "      <td>No</td>\n",
       "      <td>Very Poor</td>\n",
       "      <td>OK Condition</td>\n",
       "      <td>10.0</td>\n",
       "      <td>4620.0</td>\n",
       "      <td>0</td>\n",
       "      <td>2014.0</td>\n",
       "      <td>98024</td>\n",
       "      <td>47.5885</td>\n",
       "      <td>-121.939</td>\n",
       "      <td>4620</td>\n",
       "      <td>131007</td>\n",
       "      <td>3.147468</td>\n",
       "    </tr>\n",
       "    <tr>\n",
       "      <th>21561</th>\n",
       "      <td>6664500090</td>\n",
       "      <td>5</td>\n",
       "      <td>4.00</td>\n",
       "      <td>4500</td>\n",
       "      <td>8130.0</td>\n",
       "      <td>2.0</td>\n",
       "      <td>No</td>\n",
       "      <td>Very Poor</td>\n",
       "      <td>OK Condition</td>\n",
       "      <td>10.0</td>\n",
       "      <td>4500.0</td>\n",
       "      <td>0</td>\n",
       "      <td>2007.0</td>\n",
       "      <td>98059</td>\n",
       "      <td>47.4832</td>\n",
       "      <td>-122.145</td>\n",
       "      <td>2840</td>\n",
       "      <td>8402</td>\n",
       "      <td>3.001286</td>\n",
       "    </tr>\n",
       "  </tbody>\n",
       "</table>\n",
       "<p>127 rows × 19 columns</p>\n",
       "</div>"
      ],
      "text/plain": [
       "               id  bedrooms  bathrooms  sqft_living  sqft_lot  floors  \\\n",
       "70     1525059190         5       3.25         4770   50094.0     1.0   \n",
       "300    3225069065         4       5.00         4550   18641.0     1.0   \n",
       "384     713500030         5       3.50         4800   14984.0     2.0   \n",
       "518    4386700135         4       2.25         4760    8036.0     2.5   \n",
       "532    4403600270         4       3.25         4740   76230.0     2.0   \n",
       "...           ...       ...        ...          ...       ...     ...   \n",
       "20973  1239400650         4       3.50         4700   10183.0     1.0   \n",
       "21321  2387600010         4       3.50         4680   12495.0     2.0   \n",
       "21485  1088100450         5       4.00         4590   35046.0     2.0   \n",
       "21486    98300230         4       4.00         4620  130208.0     2.0   \n",
       "21561  6664500090         5       4.00         4500    8130.0     2.0   \n",
       "\n",
       "      waterfront       view  house_condition  grade  sqft_above  \\\n",
       "70            No  Very Poor   Good Condition   11.0      3070.0   \n",
       "300          Yes      Great     OK Condition   10.0      2600.0   \n",
       "384           No    Neutral     OK Condition   11.0      3480.0   \n",
       "518           No  Very Poor  Great Condition    9.0      3390.0   \n",
       "532           No  Very Poor     OK Condition   10.0      4740.0   \n",
       "...          ...        ...              ...    ...         ...   \n",
       "20973         No    Neutral     OK Condition   11.0      2660.0   \n",
       "21321         No  Very Poor     OK Condition   10.0      3040.0   \n",
       "21485         No  Very Poor     OK Condition   10.0      4590.0   \n",
       "21486         No  Very Poor     OK Condition   10.0      4620.0   \n",
       "21561         No  Very Poor     OK Condition   10.0      4500.0   \n",
       "\n",
       "       sqft_basement  year_built zipcode      lat     long  sqft_living_15  \\\n",
       "70              1700      1973.0   98005  47.6525 -122.160            3530   \n",
       "300             1950      2002.0   98074  47.6053 -122.077            4550   \n",
       "384             1320      1998.0   98006  47.5543 -122.148            4050   \n",
       "518             1370      1916.0   98112  47.6415 -122.285            2950   \n",
       "532                0      1987.0   98075  47.5931 -122.071            3340   \n",
       "...              ...         ...     ...      ...      ...             ...   \n",
       "20973           2040      2002.0   98033  47.6728 -122.189            3770   \n",
       "21321           1640      2008.0   98033  47.6984 -122.206            3240   \n",
       "21485              0      2008.0   98033  47.6647 -122.160            3350   \n",
       "21486              0      2014.0   98024  47.5885 -121.939            4620   \n",
       "21561              0      2007.0   98059  47.4832 -122.145            2840   \n",
       "\n",
       "       sqft_lot_15  sqft_living_zscore  \n",
       "70           38917            3.330195  \n",
       "300          19508            3.062195  \n",
       "384          19009            3.366741  \n",
       "518           9323            3.318013  \n",
       "532          49206            3.293650  \n",
       "...            ...                 ...  \n",
       "20973         9000            3.244922  \n",
       "21321        10749            3.220559  \n",
       "21485        35857            3.110922  \n",
       "21486       131007            3.147468  \n",
       "21561         8402            3.001286  \n",
       "\n",
       "[127 rows x 19 columns]"
      ]
     },
     "execution_count": 64,
     "metadata": {},
     "output_type": "execute_result"
    }
   ],
   "source": [
    "house_df.query('sqft_living_zscore > 3 or sqft_living_zscore < -3')"
   ]
  },
  {
   "cell_type": "code",
   "execution_count": 66,
   "id": "0f99ae6a",
   "metadata": {},
   "outputs": [
    {
     "data": {
      "text/html": [
       "<div>\n",
       "<style scoped>\n",
       "    .dataframe tbody tr th:only-of-type {\n",
       "        vertical-align: middle;\n",
       "    }\n",
       "\n",
       "    .dataframe tbody tr th {\n",
       "        vertical-align: top;\n",
       "    }\n",
       "\n",
       "    .dataframe thead th {\n",
       "        text-align: right;\n",
       "    }\n",
       "</style>\n",
       "<table border=\"1\" class=\"dataframe\">\n",
       "  <thead>\n",
       "    <tr style=\"text-align: right;\">\n",
       "      <th></th>\n",
       "      <th>id</th>\n",
       "      <th>bedrooms</th>\n",
       "      <th>bathrooms</th>\n",
       "      <th>sqft_living</th>\n",
       "      <th>sqft_lot</th>\n",
       "      <th>floors</th>\n",
       "      <th>waterfront</th>\n",
       "      <th>view</th>\n",
       "      <th>house_condition</th>\n",
       "      <th>grade</th>\n",
       "      <th>sqft_above</th>\n",
       "      <th>sqft_basement</th>\n",
       "      <th>year_built</th>\n",
       "      <th>zipcode</th>\n",
       "      <th>lat</th>\n",
       "      <th>long</th>\n",
       "      <th>sqft_living_15</th>\n",
       "      <th>sqft_lot_15</th>\n",
       "      <th>sqft_living_zscore</th>\n",
       "    </tr>\n",
       "  </thead>\n",
       "  <tbody>\n",
       "  </tbody>\n",
       "</table>\n",
       "</div>"
      ],
      "text/plain": [
       "Empty DataFrame\n",
       "Columns: [id, bedrooms, bathrooms, sqft_living, sqft_lot, floors, waterfront, view, house_condition, grade, sqft_above, sqft_basement, year_built, zipcode, lat, long, sqft_living_15, sqft_lot_15, sqft_living_zscore]\n",
       "Index: []"
      ]
     },
     "execution_count": 66,
     "metadata": {},
     "output_type": "execute_result"
    }
   ],
   "source": [
    "### DEFINE ###\n",
    "# remove rows outside of z-score |3| threshold\n",
    "\n",
    "### CLEAN ### \n",
    "house_df = house_df.query('sqft_living_zscore < 3 and sqft_living_zscore > -3').copy()\n",
    "\n",
    "### TEST ###\n",
    "house_df.query('sqft_living_zscore > 3 or sqft_living_zscore < -3')\n"
   ]
  },
  {
   "cell_type": "markdown",
   "id": "0a54e6b7",
   "metadata": {},
   "source": [
    "### Step 5: Summarize Actions Taken & Justify Approach"
   ]
  },
  {
   "cell_type": "code",
   "execution_count": 30,
   "id": "151012ff",
   "metadata": {},
   "outputs": [],
   "source": [
    "######################### TO DO ###################################\n",
    "\n",
    "####### FOLLOW PROJECT DIRECTIONS TO COMPLETE THIS STEP ###########"
   ]
  },
  {
   "cell_type": "markdown",
   "id": "0b825639",
   "metadata": {},
   "source": [
    "####### TO DO ###### - Edit this cell to add your summary and justification per project instructions."
   ]
  },
  {
   "cell_type": "markdown",
   "id": "1082621d",
   "metadata": {},
   "source": [
    "#### Names / Filtering / Data Types -"
   ]
  },
  {
   "cell_type": "markdown",
   "id": "e62da993",
   "metadata": {},
   "source": [
    "##### Actions Taken:"
   ]
  },
  {
   "cell_type": "code",
   "execution_count": null,
   "id": "3485c704",
   "metadata": {},
   "outputs": [],
   "source": [
    "- Dropped unnamed 0 column from house data\n",
    "- Dropped unnamed 0 column from sales data\n",
    "- Made columns lower case\n",
    "- Removed punctuation in column names\n",
    "- Made columns snake case\n",
    "- Dropped unnamed 0 column from sales data\n",
    "- Made columns lower case\n",
    "- Changed id to string/object\n",
    "- Changed zipcode to string/object\n",
    "- Changed id to string/object\n",
    "- Changed date to datetime\n",
    "- Changed price to float"
   ]
  },
  {
   "cell_type": "markdown",
   "id": "2f60e017",
   "metadata": {},
   "source": [
    "#### Missing Values - "
   ]
  },
  {
   "cell_type": "markdown",
   "id": "ba92f304",
   "metadata": {},
   "source": [
    "##### Actions Taken:\n",
    "\n",
    "House_df:"
   ]
  },
  {
   "cell_type": "code",
   "execution_count": null,
   "id": "5feee237",
   "metadata": {},
   "outputs": [],
   "source": [
    "- Bedrooms - removed outliers outside of |3| zscore threshold\n",
    "- Bathrooms - removed outliers outside of |3| zscore threshold\n",
    "- Sqft living - removed outliers outside of |3| zscore threshold\n",
    "- Sqft lot - removed outliers outside of |3| zscore threshold\n",
    "- Grade - left outliers due to them being inside appropriate range (1-13)\n",
    "- SQFT above - removed outliers outside of |3| zscore threshold\n",
    "- Sqft basement - removed outliers outside of |3| zscore threshold\n",
    "- Year Built - removed outliers outside of |3| zscore threshold\n",
    "- Year Renovated - removed outliers outside of |3| zscore threshold\n",
    "- SQFT Living 15 - removed outliers outside of |3| zscore threshold\n",
    "- SQFT lot 15 - removed outliers outside of |3| zscore threshold"
   ]
  },
  {
   "cell_type": "markdown",
   "id": "be32e952",
   "metadata": {},
   "source": [
    "## Part 4: Re-Express Categorical Variables"
   ]
  },
  {
   "cell_type": "markdown",
   "id": "60bcdbc8",
   "metadata": {},
   "source": [
    "### Step 1: Determine Which Variables Need to Be Re-Expressed"
   ]
  },
  {
   "cell_type": "code",
   "execution_count": 31,
   "id": "4aecd3ad",
   "metadata": {},
   "outputs": [],
   "source": [
    "######################### TO DO ###################################\n",
    "\n",
    "####### FOLLOW PROJECT DIRECTIONS TO COMPLETE THIS STEP ###########"
   ]
  },
  {
   "cell_type": "code",
   "execution_count": 68,
   "id": "20ac8949",
   "metadata": {},
   "outputs": [
    {
     "data": {
      "text/html": [
       "<div>\n",
       "<style scoped>\n",
       "    .dataframe tbody tr th:only-of-type {\n",
       "        vertical-align: middle;\n",
       "    }\n",
       "\n",
       "    .dataframe tbody tr th {\n",
       "        vertical-align: top;\n",
       "    }\n",
       "\n",
       "    .dataframe thead th {\n",
       "        text-align: right;\n",
       "    }\n",
       "</style>\n",
       "<table border=\"1\" class=\"dataframe\">\n",
       "  <thead>\n",
       "    <tr style=\"text-align: right;\">\n",
       "      <th></th>\n",
       "      <th>id</th>\n",
       "      <th>bedrooms</th>\n",
       "      <th>bathrooms</th>\n",
       "      <th>sqft_living</th>\n",
       "      <th>sqft_lot</th>\n",
       "      <th>floors</th>\n",
       "      <th>waterfront</th>\n",
       "      <th>view</th>\n",
       "      <th>house_condition</th>\n",
       "      <th>grade</th>\n",
       "      <th>sqft_above</th>\n",
       "      <th>sqft_basement</th>\n",
       "      <th>year_built</th>\n",
       "      <th>zipcode</th>\n",
       "      <th>lat</th>\n",
       "      <th>long</th>\n",
       "      <th>sqft_living_15</th>\n",
       "      <th>sqft_lot_15</th>\n",
       "      <th>sqft_living_zscore</th>\n",
       "    </tr>\n",
       "  </thead>\n",
       "  <tbody>\n",
       "    <tr>\n",
       "      <th>0</th>\n",
       "      <td>7129300520</td>\n",
       "      <td>3</td>\n",
       "      <td>1.00</td>\n",
       "      <td>1180</td>\n",
       "      <td>5650.0</td>\n",
       "      <td>1.0</td>\n",
       "      <td>No</td>\n",
       "      <td>Very Poor</td>\n",
       "      <td>OK Condition</td>\n",
       "      <td>7.0</td>\n",
       "      <td>1180.0</td>\n",
       "      <td>0</td>\n",
       "      <td>1955.0</td>\n",
       "      <td>98178</td>\n",
       "      <td>47.5112</td>\n",
       "      <td>-122.257</td>\n",
       "      <td>1340</td>\n",
       "      <td>5650</td>\n",
       "      <td>-1.043082</td>\n",
       "    </tr>\n",
       "    <tr>\n",
       "      <th>1</th>\n",
       "      <td>6414100192</td>\n",
       "      <td>3</td>\n",
       "      <td>2.25</td>\n",
       "      <td>2570</td>\n",
       "      <td>7242.0</td>\n",
       "      <td>2.0</td>\n",
       "      <td>No</td>\n",
       "      <td>Very Poor</td>\n",
       "      <td>OK Condition</td>\n",
       "      <td>7.0</td>\n",
       "      <td>2170.0</td>\n",
       "      <td>400</td>\n",
       "      <td>1951.0</td>\n",
       "      <td>98125</td>\n",
       "      <td>47.7210</td>\n",
       "      <td>-122.319</td>\n",
       "      <td>1690</td>\n",
       "      <td>7639</td>\n",
       "      <td>0.650192</td>\n",
       "    </tr>\n",
       "    <tr>\n",
       "      <th>2</th>\n",
       "      <td>5631500400</td>\n",
       "      <td>2</td>\n",
       "      <td>1.00</td>\n",
       "      <td>770</td>\n",
       "      <td>10000.0</td>\n",
       "      <td>1.0</td>\n",
       "      <td>No</td>\n",
       "      <td>Very Poor</td>\n",
       "      <td>OK Condition</td>\n",
       "      <td>6.0</td>\n",
       "      <td>770.0</td>\n",
       "      <td>0</td>\n",
       "      <td>1933.0</td>\n",
       "      <td>98028</td>\n",
       "      <td>47.7379</td>\n",
       "      <td>-122.233</td>\n",
       "      <td>2720</td>\n",
       "      <td>8062</td>\n",
       "      <td>-1.542537</td>\n",
       "    </tr>\n",
       "    <tr>\n",
       "      <th>3</th>\n",
       "      <td>2487200875</td>\n",
       "      <td>4</td>\n",
       "      <td>3.00</td>\n",
       "      <td>1960</td>\n",
       "      <td>5000.0</td>\n",
       "      <td>1.0</td>\n",
       "      <td>No</td>\n",
       "      <td>Very Poor</td>\n",
       "      <td>Great Condition</td>\n",
       "      <td>7.0</td>\n",
       "      <td>1050.0</td>\n",
       "      <td>910</td>\n",
       "      <td>1965.0</td>\n",
       "      <td>98136</td>\n",
       "      <td>47.5208</td>\n",
       "      <td>-122.393</td>\n",
       "      <td>1360</td>\n",
       "      <td>5000</td>\n",
       "      <td>-0.092899</td>\n",
       "    </tr>\n",
       "    <tr>\n",
       "      <th>4</th>\n",
       "      <td>1954400510</td>\n",
       "      <td>3</td>\n",
       "      <td>2.00</td>\n",
       "      <td>1680</td>\n",
       "      <td>8080.0</td>\n",
       "      <td>1.0</td>\n",
       "      <td>No</td>\n",
       "      <td>Very Poor</td>\n",
       "      <td>OK Condition</td>\n",
       "      <td>8.0</td>\n",
       "      <td>1680.0</td>\n",
       "      <td>0</td>\n",
       "      <td>1987.0</td>\n",
       "      <td>98074</td>\n",
       "      <td>47.6168</td>\n",
       "      <td>-122.045</td>\n",
       "      <td>1800</td>\n",
       "      <td>7503</td>\n",
       "      <td>-0.433991</td>\n",
       "    </tr>\n",
       "  </tbody>\n",
       "</table>\n",
       "</div>"
      ],
      "text/plain": [
       "           id  bedrooms  bathrooms  sqft_living  sqft_lot  floors waterfront  \\\n",
       "0  7129300520         3       1.00         1180    5650.0     1.0         No   \n",
       "1  6414100192         3       2.25         2570    7242.0     2.0         No   \n",
       "2  5631500400         2       1.00          770   10000.0     1.0         No   \n",
       "3  2487200875         4       3.00         1960    5000.0     1.0         No   \n",
       "4  1954400510         3       2.00         1680    8080.0     1.0         No   \n",
       "\n",
       "        view  house_condition  grade  sqft_above  sqft_basement  year_built  \\\n",
       "0  Very Poor     OK Condition    7.0      1180.0              0      1955.0   \n",
       "1  Very Poor     OK Condition    7.0      2170.0            400      1951.0   \n",
       "2  Very Poor     OK Condition    6.0       770.0              0      1933.0   \n",
       "3  Very Poor  Great Condition    7.0      1050.0            910      1965.0   \n",
       "4  Very Poor     OK Condition    8.0      1680.0              0      1987.0   \n",
       "\n",
       "  zipcode      lat     long  sqft_living_15  sqft_lot_15  sqft_living_zscore  \n",
       "0   98178  47.5112 -122.257            1340         5650           -1.043082  \n",
       "1   98125  47.7210 -122.319            1690         7639            0.650192  \n",
       "2   98028  47.7379 -122.233            2720         8062           -1.542537  \n",
       "3   98136  47.5208 -122.393            1360         5000           -0.092899  \n",
       "4   98074  47.6168 -122.045            1800         7503           -0.433991  "
      ]
     },
     "execution_count": 68,
     "metadata": {},
     "output_type": "execute_result"
    }
   ],
   "source": [
    "house_df.head()"
   ]
  },
  {
   "cell_type": "markdown",
   "id": "1f856e80",
   "metadata": {},
   "source": [
    "List categorical variables which need to be re-expressed here:\n",
    "- waterfront\n",
    "- view\n",
    "- house_condition"
   ]
  },
  {
   "cell_type": "markdown",
   "id": "b6b6cbdb",
   "metadata": {},
   "source": [
    "### Step 2: Choose Method to Re-Express Variables"
   ]
  },
  {
   "cell_type": "code",
   "execution_count": 32,
   "id": "0c8977ed",
   "metadata": {},
   "outputs": [],
   "source": [
    "######################### TO DO ###################################\n",
    "\n",
    "####### FOLLOW PROJECT DIRECTIONS TO COMPLETE THIS STEP ###########"
   ]
  },
  {
   "cell_type": "markdown",
   "id": "dc0fd315",
   "metadata": {},
   "source": [
    "###### Methods to replace values\n",
    "- waterfront - replace 'No' with 0 and 'Yes' with 1\n",
    "- view - replace with weighted integers (scale of 1-5 for very poor - great)\n",
    "- house_condition - replace with weighted integers (1-5 for bad condition - great condition)"
   ]
  },
  {
   "cell_type": "markdown",
   "id": "f4c3e76b",
   "metadata": {},
   "source": [
    "### Step 3: Perform Transformation "
   ]
  },
  {
   "cell_type": "code",
   "execution_count": 33,
   "id": "8542a6d1",
   "metadata": {},
   "outputs": [],
   "source": [
    "######################### TO DO ###################################\n",
    "\n",
    "####### FOLLOW PROJECT DIRECTIONS TO COMPLETE THIS STEP ###########"
   ]
  },
  {
   "cell_type": "markdown",
   "id": "7ec05e80",
   "metadata": {},
   "source": [
    "##### Re-Express 'waterfront' Column "
   ]
  },
  {
   "cell_type": "code",
   "execution_count": 69,
   "id": "c75a798f",
   "metadata": {},
   "outputs": [
    {
     "data": {
      "text/plain": [
       "array(['No', 'Yes'], dtype=object)"
      ]
     },
     "execution_count": 69,
     "metadata": {},
     "output_type": "execute_result"
    }
   ],
   "source": [
    "house_df.waterfront.unique()"
   ]
  },
  {
   "cell_type": "code",
   "execution_count": 70,
   "id": "3e37b994",
   "metadata": {},
   "outputs": [],
   "source": [
    "house_df['waterfront'] = house_df['waterfront'].replace({'Yes':1, \"No\":0})"
   ]
  },
  {
   "cell_type": "code",
   "execution_count": 71,
   "id": "7f0aba3f",
   "metadata": {},
   "outputs": [
    {
     "data": {
      "text/plain": [
       "array([0, 1])"
      ]
     },
     "execution_count": 71,
     "metadata": {},
     "output_type": "execute_result"
    }
   ],
   "source": [
    "house_df.waterfront.unique()"
   ]
  },
  {
   "cell_type": "markdown",
   "id": "c0f40638",
   "metadata": {},
   "source": [
    "##### Re-Express 'view' Column"
   ]
  },
  {
   "cell_type": "code",
   "execution_count": 72,
   "id": "b675b2fc",
   "metadata": {},
   "outputs": [
    {
     "data": {
      "text/plain": [
       "array(['Very Poor', 'Good', 'Great', 'Neutral', 'Poor'], dtype=object)"
      ]
     },
     "execution_count": 72,
     "metadata": {},
     "output_type": "execute_result"
    }
   ],
   "source": [
    "house_df.view.unique()"
   ]
  },
  {
   "cell_type": "code",
   "execution_count": 73,
   "id": "f504c577",
   "metadata": {},
   "outputs": [],
   "source": [
    "house_df['view'] = house_df['view'].replace({'Very Poor':1, 'Poor':2, 'Neutral':3, 'Good':4, 'Great':5})"
   ]
  },
  {
   "cell_type": "code",
   "execution_count": 74,
   "id": "ee3dec76",
   "metadata": {},
   "outputs": [
    {
     "data": {
      "text/plain": [
       "array([1, 4, 5, 3, 2])"
      ]
     },
     "execution_count": 74,
     "metadata": {},
     "output_type": "execute_result"
    }
   ],
   "source": [
    "house_df['view'].unique()"
   ]
  },
  {
   "cell_type": "markdown",
   "id": "267ee24e",
   "metadata": {},
   "source": [
    "##### Re-Express 'house_condition' Column"
   ]
  },
  {
   "cell_type": "code",
   "execution_count": 75,
   "id": "45faa0a0",
   "metadata": {},
   "outputs": [
    {
     "data": {
      "text/plain": [
       "array(['OK Condition', 'Great Condition', 'Good Condition',\n",
       "       'Very Bad Condition', 'Bad Condition'], dtype=object)"
      ]
     },
     "execution_count": 75,
     "metadata": {},
     "output_type": "execute_result"
    }
   ],
   "source": [
    "house_df['house_condition'].unique()"
   ]
  },
  {
   "cell_type": "code",
   "execution_count": 76,
   "id": "034d309c",
   "metadata": {},
   "outputs": [],
   "source": [
    "house_df['house_condition'] = house_df['house_condition'].replace({'Very Bad Condition':1, 'Bad Condition':2, 'OK Condition':3, 'Good Condition':4, 'Great Condition':5})"
   ]
  },
  {
   "cell_type": "code",
   "execution_count": 77,
   "id": "799151ae",
   "metadata": {},
   "outputs": [
    {
     "data": {
      "text/plain": [
       "array([3, 5, 4, 1, 2])"
      ]
     },
     "execution_count": 77,
     "metadata": {},
     "output_type": "execute_result"
    }
   ],
   "source": [
    "house_df['house_condition'].unique()"
   ]
  },
  {
   "cell_type": "markdown",
   "id": "f2ce1391",
   "metadata": {},
   "source": [
    "### Step 4: Summarize Actions Taken & Justify Approach"
   ]
  },
  {
   "cell_type": "code",
   "execution_count": 34,
   "id": "d87dcba1",
   "metadata": {},
   "outputs": [],
   "source": [
    "######################### TO DO ###################################\n",
    "\n",
    "####### FOLLOW PROJECT DIRECTIONS TO COMPLETE THIS STEP ###########"
   ]
  },
  {
   "cell_type": "markdown",
   "id": "fdd1a79e",
   "metadata": {},
   "source": [
    "##### Actions Taken:\n",
    "\n",
    "- waterfront - replaced 'No' with 0 and 'Yes' with 1\n",
    "- view - replaced with weighted integers (scale of 1-5 for very poor - great)\n",
    "- house_condition - replaced with weighted integers (1-5 for bad condition - great condition)"
   ]
  },
  {
   "cell_type": "markdown",
   "id": "e592a7c3",
   "metadata": {},
   "source": [
    "## Part 5: Combine Datasets into Master DataFrame"
   ]
  },
  {
   "cell_type": "markdown",
   "id": "faf1efd6",
   "metadata": {},
   "source": [
    "### Step 1: Choose Method to Merge DataFrames into New Master DataFrame"
   ]
  },
  {
   "cell_type": "code",
   "execution_count": 35,
   "id": "f2915bd5",
   "metadata": {},
   "outputs": [],
   "source": [
    "######################### TO DO ###################################\n",
    "\n",
    "####### FOLLOW PROJECT DIRECTIONS TO COMPLETE THIS STEP ###########"
   ]
  },
  {
   "cell_type": "markdown",
   "id": "519d0760",
   "metadata": {},
   "source": [
    "I am going to merge the datasets with the pandas method .merge() because I want to combine them on the ID row and get rid of any rows which don't match on the ID row - .merge() is a good way to do that with the default arguments."
   ]
  },
  {
   "cell_type": "markdown",
   "id": "4b9afb13",
   "metadata": {},
   "source": [
    "### Step 2: Merge DataFrames"
   ]
  },
  {
   "cell_type": "code",
   "execution_count": 36,
   "id": "99031a01",
   "metadata": {},
   "outputs": [],
   "source": [
    "######################### TO DO ###################################\n",
    "\n",
    "####### FOLLOW PROJECT DIRECTIONS TO COMPLETE THIS STEP ###########"
   ]
  },
  {
   "cell_type": "code",
   "execution_count": 79,
   "id": "55fb9a12",
   "metadata": {},
   "outputs": [],
   "source": [
    "master_df = sales_df.merge(house_df, on='id')"
   ]
  },
  {
   "cell_type": "code",
   "execution_count": 80,
   "id": "62425694",
   "metadata": {},
   "outputs": [
    {
     "data": {
      "text/html": [
       "<div>\n",
       "<style scoped>\n",
       "    .dataframe tbody tr th:only-of-type {\n",
       "        vertical-align: middle;\n",
       "    }\n",
       "\n",
       "    .dataframe tbody tr th {\n",
       "        vertical-align: top;\n",
       "    }\n",
       "\n",
       "    .dataframe thead th {\n",
       "        text-align: right;\n",
       "    }\n",
       "</style>\n",
       "<table border=\"1\" class=\"dataframe\">\n",
       "  <thead>\n",
       "    <tr style=\"text-align: right;\">\n",
       "      <th></th>\n",
       "      <th>unnamed: 0</th>\n",
       "      <th>id</th>\n",
       "      <th>date</th>\n",
       "      <th>price</th>\n",
       "      <th>bedrooms</th>\n",
       "      <th>bathrooms</th>\n",
       "      <th>sqft_living</th>\n",
       "      <th>sqft_lot</th>\n",
       "      <th>floors</th>\n",
       "      <th>waterfront</th>\n",
       "      <th>...</th>\n",
       "      <th>grade</th>\n",
       "      <th>sqft_above</th>\n",
       "      <th>sqft_basement</th>\n",
       "      <th>year_built</th>\n",
       "      <th>zipcode</th>\n",
       "      <th>lat</th>\n",
       "      <th>long</th>\n",
       "      <th>sqft_living_15</th>\n",
       "      <th>sqft_lot_15</th>\n",
       "      <th>sqft_living_zscore</th>\n",
       "    </tr>\n",
       "  </thead>\n",
       "  <tbody>\n",
       "    <tr>\n",
       "      <th>0</th>\n",
       "      <td>0</td>\n",
       "      <td>7129300520</td>\n",
       "      <td>2014-10-13</td>\n",
       "      <td>221900.0</td>\n",
       "      <td>3</td>\n",
       "      <td>1.00</td>\n",
       "      <td>1180</td>\n",
       "      <td>5650.0</td>\n",
       "      <td>1.0</td>\n",
       "      <td>0</td>\n",
       "      <td>...</td>\n",
       "      <td>7.0</td>\n",
       "      <td>1180.0</td>\n",
       "      <td>0</td>\n",
       "      <td>1955.0</td>\n",
       "      <td>98178</td>\n",
       "      <td>47.5112</td>\n",
       "      <td>-122.257</td>\n",
       "      <td>1340</td>\n",
       "      <td>5650</td>\n",
       "      <td>-1.043082</td>\n",
       "    </tr>\n",
       "    <tr>\n",
       "      <th>1</th>\n",
       "      <td>1</td>\n",
       "      <td>6414100192</td>\n",
       "      <td>2014-12-09</td>\n",
       "      <td>538000.0</td>\n",
       "      <td>3</td>\n",
       "      <td>2.25</td>\n",
       "      <td>2570</td>\n",
       "      <td>7242.0</td>\n",
       "      <td>2.0</td>\n",
       "      <td>0</td>\n",
       "      <td>...</td>\n",
       "      <td>7.0</td>\n",
       "      <td>2170.0</td>\n",
       "      <td>400</td>\n",
       "      <td>1951.0</td>\n",
       "      <td>98125</td>\n",
       "      <td>47.7210</td>\n",
       "      <td>-122.319</td>\n",
       "      <td>1690</td>\n",
       "      <td>7639</td>\n",
       "      <td>0.650192</td>\n",
       "    </tr>\n",
       "    <tr>\n",
       "      <th>2</th>\n",
       "      <td>2</td>\n",
       "      <td>5631500400</td>\n",
       "      <td>2015-02-25</td>\n",
       "      <td>180000.0</td>\n",
       "      <td>2</td>\n",
       "      <td>1.00</td>\n",
       "      <td>770</td>\n",
       "      <td>10000.0</td>\n",
       "      <td>1.0</td>\n",
       "      <td>0</td>\n",
       "      <td>...</td>\n",
       "      <td>6.0</td>\n",
       "      <td>770.0</td>\n",
       "      <td>0</td>\n",
       "      <td>1933.0</td>\n",
       "      <td>98028</td>\n",
       "      <td>47.7379</td>\n",
       "      <td>-122.233</td>\n",
       "      <td>2720</td>\n",
       "      <td>8062</td>\n",
       "      <td>-1.542537</td>\n",
       "    </tr>\n",
       "    <tr>\n",
       "      <th>3</th>\n",
       "      <td>3</td>\n",
       "      <td>2487200875</td>\n",
       "      <td>2014-12-09</td>\n",
       "      <td>604000.0</td>\n",
       "      <td>4</td>\n",
       "      <td>3.00</td>\n",
       "      <td>1960</td>\n",
       "      <td>5000.0</td>\n",
       "      <td>1.0</td>\n",
       "      <td>0</td>\n",
       "      <td>...</td>\n",
       "      <td>7.0</td>\n",
       "      <td>1050.0</td>\n",
       "      <td>910</td>\n",
       "      <td>1965.0</td>\n",
       "      <td>98136</td>\n",
       "      <td>47.5208</td>\n",
       "      <td>-122.393</td>\n",
       "      <td>1360</td>\n",
       "      <td>5000</td>\n",
       "      <td>-0.092899</td>\n",
       "    </tr>\n",
       "    <tr>\n",
       "      <th>4</th>\n",
       "      <td>4</td>\n",
       "      <td>1954400510</td>\n",
       "      <td>2015-02-18</td>\n",
       "      <td>510000.0</td>\n",
       "      <td>3</td>\n",
       "      <td>2.00</td>\n",
       "      <td>1680</td>\n",
       "      <td>8080.0</td>\n",
       "      <td>1.0</td>\n",
       "      <td>0</td>\n",
       "      <td>...</td>\n",
       "      <td>8.0</td>\n",
       "      <td>1680.0</td>\n",
       "      <td>0</td>\n",
       "      <td>1987.0</td>\n",
       "      <td>98074</td>\n",
       "      <td>47.6168</td>\n",
       "      <td>-122.045</td>\n",
       "      <td>1800</td>\n",
       "      <td>7503</td>\n",
       "      <td>-0.433991</td>\n",
       "    </tr>\n",
       "  </tbody>\n",
       "</table>\n",
       "<p>5 rows × 22 columns</p>\n",
       "</div>"
      ],
      "text/plain": [
       "   unnamed: 0          id       date     price  bedrooms  bathrooms  \\\n",
       "0           0  7129300520 2014-10-13  221900.0         3       1.00   \n",
       "1           1  6414100192 2014-12-09  538000.0         3       2.25   \n",
       "2           2  5631500400 2015-02-25  180000.0         2       1.00   \n",
       "3           3  2487200875 2014-12-09  604000.0         4       3.00   \n",
       "4           4  1954400510 2015-02-18  510000.0         3       2.00   \n",
       "\n",
       "   sqft_living  sqft_lot  floors  waterfront  ...  grade  sqft_above  \\\n",
       "0         1180    5650.0     1.0           0  ...    7.0      1180.0   \n",
       "1         2570    7242.0     2.0           0  ...    7.0      2170.0   \n",
       "2          770   10000.0     1.0           0  ...    6.0       770.0   \n",
       "3         1960    5000.0     1.0           0  ...    7.0      1050.0   \n",
       "4         1680    8080.0     1.0           0  ...    8.0      1680.0   \n",
       "\n",
       "   sqft_basement  year_built  zipcode      lat     long  sqft_living_15  \\\n",
       "0              0      1955.0    98178  47.5112 -122.257            1340   \n",
       "1            400      1951.0    98125  47.7210 -122.319            1690   \n",
       "2              0      1933.0    98028  47.7379 -122.233            2720   \n",
       "3            910      1965.0    98136  47.5208 -122.393            1360   \n",
       "4              0      1987.0    98074  47.6168 -122.045            1800   \n",
       "\n",
       "   sqft_lot_15  sqft_living_zscore  \n",
       "0         5650           -1.043082  \n",
       "1         7639            0.650192  \n",
       "2         8062           -1.542537  \n",
       "3         5000           -0.092899  \n",
       "4         7503           -0.433991  \n",
       "\n",
       "[5 rows x 22 columns]"
      ]
     },
     "execution_count": 80,
     "metadata": {},
     "output_type": "execute_result"
    }
   ],
   "source": [
    "# Use .head() method to print first few rows of new master dataframe\n",
    "\n",
    "master_df.head()"
   ]
  },
  {
   "cell_type": "code",
   "execution_count": 81,
   "id": "e48febb5",
   "metadata": {},
   "outputs": [
    {
     "name": "stdout",
     "output_type": "stream",
     "text": [
      "<class 'pandas.core.frame.DataFrame'>\n",
      "Int64Index: 21573 entries, 0 to 21572\n",
      "Data columns (total 22 columns):\n",
      " #   Column              Non-Null Count  Dtype         \n",
      "---  ------              --------------  -----         \n",
      " 0   unnamed: 0          21573 non-null  int64         \n",
      " 1   id                  21573 non-null  object        \n",
      " 2   date                21573 non-null  datetime64[ns]\n",
      " 3   price               21573 non-null  float64       \n",
      " 4   bedrooms            21573 non-null  int64         \n",
      " 5   bathrooms           21573 non-null  float64       \n",
      " 6   sqft_living         21573 non-null  int64         \n",
      " 7   sqft_lot            21573 non-null  float64       \n",
      " 8   floors              21573 non-null  float64       \n",
      " 9   waterfront          21573 non-null  int64         \n",
      " 10  view                21573 non-null  int64         \n",
      " 11  house_condition     21573 non-null  int64         \n",
      " 12  grade               21573 non-null  float64       \n",
      " 13  sqft_above          21573 non-null  float64       \n",
      " 14  sqft_basement       21573 non-null  int64         \n",
      " 15  year_built          21573 non-null  float64       \n",
      " 16  zipcode             21573 non-null  object        \n",
      " 17  lat                 21573 non-null  float64       \n",
      " 18  long                21573 non-null  float64       \n",
      " 19  sqft_living_15      21573 non-null  int64         \n",
      " 20  sqft_lot_15         21573 non-null  int64         \n",
      " 21  sqft_living_zscore  21573 non-null  float64       \n",
      "dtypes: datetime64[ns](1), float64(10), int64(9), object(2)\n",
      "memory usage: 3.8+ MB\n"
     ]
    }
   ],
   "source": [
    "master_df.info()"
   ]
  },
  {
   "cell_type": "markdown",
   "id": "676dfdc8",
   "metadata": {},
   "source": [
    "### Step 3: Save Master DataFrame to New .CSV"
   ]
  },
  {
   "cell_type": "code",
   "execution_count": 38,
   "id": "ccf2c160",
   "metadata": {},
   "outputs": [],
   "source": [
    "######################### TO DO ###################################\n",
    "\n",
    "####### FOLLOW PROJECT DIRECTIONS TO COMPLETE THIS STEP ###########"
   ]
  },
  {
   "cell_type": "code",
   "execution_count": 82,
   "id": "3242ad34",
   "metadata": {},
   "outputs": [],
   "source": [
    "master_df.to_csv('master.csv', index=False)"
   ]
  },
  {
   "cell_type": "markdown",
   "id": "a34a138b",
   "metadata": {},
   "source": [
    "### Step 4: Push to GitHub / Share Link with Tech Lead & SME"
   ]
  },
  {
   "cell_type": "markdown",
   "id": "16a67912",
   "metadata": {},
   "source": [
    "##### This step will be completed outside of Jupyter Notebook. See \"Submitting Project\" Video Walkthrough from Unit 1 if you have any questions. "
   ]
  },
  {
   "cell_type": "markdown",
   "id": "44a3a5a1",
   "metadata": {},
   "source": [
    "### Step 5: Record Brief Code Walkthrough / Share Link with Tech Lead & SME "
   ]
  },
  {
   "cell_type": "markdown",
   "id": "585c953e",
   "metadata": {},
   "source": [
    "##### This step will be completed outside of Jupyter Notebook. See \"Submitting Project\" Video Walkthrough from Unit 1 if you have any questions. "
   ]
  }
 ],
 "metadata": {
  "kernelspec": {
   "display_name": "Python 3.10.5 64-bit",
   "language": "python",
   "name": "python3"
  },
  "language_info": {
   "codemirror_mode": {
    "name": "ipython",
    "version": 3
   },
   "file_extension": ".py",
   "mimetype": "text/x-python",
   "name": "python",
   "nbconvert_exporter": "python",
   "pygments_lexer": "ipython3",
   "version": "3.10.5"
  },
  "vscode": {
   "interpreter": {
    "hash": "aee8b7b246df8f9039afb4144a1f6fd8d2ca17a180786b69acc140d282b71a49"
   }
  }
 },
 "nbformat": 4,
 "nbformat_minor": 5
}
